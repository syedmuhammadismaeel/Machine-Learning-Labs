{
 "cells": [
  {
   "cell_type": "code",
   "execution_count": 2,
   "metadata": {},
   "outputs": [],
   "source": [
    "import sys\n",
    "sys.path.append(r'C:\\Users\\syedm\\Desktop\\Electrical (Communication)\\8TH SEMESTER 2025\\INTRODUCTION TO MACHINE LEARNING LAB\\MACHINE LAB WORKS\\LAB 9\\timeseires')"
   ]
  },
  {
   "cell_type": "code",
   "execution_count": 3,
   "metadata": {},
   "outputs": [],
   "source": [
    "from sklearn.metrics import mean_squared_error, mean_absolute_error, explained_variance_score, r2_score\n",
    "from timeseires.utils.to_split import to_split\n",
    "from timeseires.utils.multivariate_multi_step import multivariate_multi_step\n",
    "from timeseires.utils.multivariate_single_step import multivariate_single_step\n",
    "from timeseires.utils.univariate_multi_step import univariate_multi_step\n",
    "from timeseires.utils.univariate_single_step import univariate_single_step\n",
    "from timeseires.utils.CosineAnnealingLRS import CosineAnnealingLRS\n",
    "from timeseires.callbacks.EpochCheckpoint import EpochCheckpoint\n",
    "from tensorflow.keras.callbacks import ModelCheckpoint\n",
    "from timeseires.callbacks.TrainingMonitor import TrainingMonitor\n",
    "from tensorflow.keras.optimizers import Adam\n",
    "from tensorflow.keras.optimizers import SGD\n",
    "from tensorflow.keras.models import load_model\n",
    "from tensorflow.keras.layers import LSTM, Bidirectional, Add\n",
    "from tensorflow.keras.layers import BatchNormalization\n",
    "from tensorflow.keras.layers import Conv1D,TimeDistributed\n",
    "from tensorflow.keras.layers import Dense, Dropout, Activation, Flatten,MaxPooling1D,Concatenate,AveragePooling1D, GlobalMaxPooling1D, Input, SimpleRNN\n",
    "from tensorflow.keras.models import Sequential,Model\n",
    "import pandas as pd\n",
    "import time, pickle\n",
    "import numpy as np\n",
    "import tensorflow.keras.backend as K\n",
    "import tensorflow\n",
    "from tensorflow.keras.layers import Input, Reshape, Lambda\n",
    "from tensorflow.keras.layers import Layer, Flatten, LeakyReLU, concatenate, Dense\n",
    "from tensorflow.keras.regularizers import l2\n",
    "import glob\n",
    "import h5py\n",
    "import matplotlib.pyplot as plt\n",
    "from keras.callbacks import Callback"
   ]
  },
  {
   "cell_type": "code",
   "execution_count": 4,
   "metadata": {},
   "outputs": [],
   "source": [
    "#lookback = 24\n",
    "model = None\n",
    "start_epoch = 0\n",
    "time_steps=24\n",
    "num_features=21"
   ]
  },
  {
   "cell_type": "code",
   "execution_count": 5,
   "metadata": {},
   "outputs": [],
   "source": [
    "def create_rnn():\n",
    "    input_data = Input(shape=(time_steps, num_features))\n",
    "    rnn_layer1 = SimpleRNN(8, return_sequences=True)(input_data)\n",
    "    rnn_layer2 = SimpleRNN(20)(rnn_layer1)\n",
    "    x = Flatten()(rnn_layer2)\n",
    "    output_data = Dense(1)(x)\n",
    "    model = Model(input_data, output_data)\n",
    "    return model"
   ]
  },
  {
   "cell_type": "code",
   "execution_count": 6,
   "metadata": {
    "scrolled": true
   },
   "outputs": [
    {
     "name": "stdout",
     "output_type": "stream",
     "text": [
      "Model: \"model\"\n",
      "_________________________________________________________________\n",
      " Layer (type)                Output Shape              Param #   \n",
      "=================================================================\n",
      " input_1 (InputLayer)        [(None, 24, 21)]          0         \n",
      "                                                                 \n",
      " simple_rnn (SimpleRNN)      (None, 24, 8)             240       \n",
      "                                                                 \n",
      " simple_rnn_1 (SimpleRNN)    (None, 20)                580       \n",
      "                                                                 \n",
      " flatten (Flatten)           (None, 20)                0         \n",
      "                                                                 \n",
      " dense (Dense)               (None, 1)                 21        \n",
      "                                                                 \n",
      "=================================================================\n",
      "Total params: 841\n",
      "Trainable params: 841\n",
      "Non-trainable params: 0\n",
      "_________________________________________________________________\n"
     ]
    }
   ],
   "source": [
    "model1 = create_rnn()\n",
    "model1.summary()"
   ]
  },
  {
   "cell_type": "code",
   "execution_count": 7,
   "metadata": {},
   "outputs": [
    {
     "name": "stdout",
     "output_type": "stream",
     "text": [
      "You must install pydot (`pip install pydot`) and install graphviz (see instructions at https://graphviz.gitlab.io/download/) for plot_model to work.\n"
     ]
    }
   ],
   "source": [
    "tensorflow.keras.utils.plot_model(model1 )"
   ]
  },
  {
   "cell_type": "code",
   "execution_count": 8,
   "metadata": {},
   "outputs": [],
   "source": [
    "checkpoints = r'C:\\Users\\syedm\\Desktop\\Electrical (Communication)\\8TH SEMESTER 2025\\INTRODUCTION TO MACHINE LEARNING LAB\\MACHINE LAB WORKS\\LAB 9\\\\E1-cp-{epoch:04d}-loss{val_loss:.2f}.h5'\n",
    "OUTPUT_PATH = r'C:\\Users\\syedm\\Desktop\\Electrical (Communication)\\8TH SEMESTER 2025\\INTRODUCTION TO MACHINE LEARNING LAB\\MACHINE LAB WORKS\\LAB 9'\n",
    "FIG_PATH = os.path.sep.join([OUTPUT_PATH,\"\\history.png\"])\n",
    "JSON_PATH = os.path.sep.join([OUTPUT_PATH,\"\\history.json\"])"
   ]
  },
  {
   "cell_type": "code",
   "execution_count": 9,
   "metadata": {},
   "outputs": [],
   "source": [
    "# construct the callback to save only the *best* model to disk\n",
    "# based on the validation loss\n",
    "EpochCheckpoint1 = ModelCheckpoint(checkpoints,\n",
    "                             monitor=\"val_loss\",\n",
    "                             save_best_only=True, \n",
    "                             verbose=1)\n",
    "TrainingMonitor1=TrainingMonitor(FIG_PATH, jsonPath=JSON_PATH, startAt=start_epoch)\n",
    "\n",
    "# construct the set of callbacks\n",
    "callbacks = [EpochCheckpoint1,TrainingMonitor1]"
   ]
  },
  {
   "cell_type": "code",
   "execution_count": 10,
   "metadata": {},
   "outputs": [
    {
     "name": "stdout",
     "output_type": "stream",
     "text": [
      "[INFO] compiling model...\n"
     ]
    }
   ],
   "source": [
    "# if there is no specific model checkpoint supplied, then initialize\n",
    "# the network and compile the model\n",
    "if model is None:\n",
    "    print(\"[INFO] compiling model...\")\n",
    "    model =create_rnn()\n",
    "    opt = Adam(1e-3)\n",
    "    model.compile(loss= 'mae', optimizer=opt, metrics=[\"mae\", \"mape\"])\n",
    "# otherwise, load the checkpoint from disk\n",
    "else:\n",
    "    print(\"[INFO] loading {}...\".format(model))\n",
    "    model = load_model(model)\n",
    "\n",
    "    # update the learning rate\n",
    "    print(\"[INFO] old learning rate: {}\".format(K.get_value(model.optimizer.lr)))\n",
    "    K.set_value(model.optimizer.lr, 1e-4)\n",
    "    print(\"[INFO] new learning rate: {}\".format(K.get_value(model.optimizer.lr)))"
   ]
  },
  {
   "cell_type": "code",
   "execution_count": 11,
   "metadata": {},
   "outputs": [
    {
     "data": {
      "text/plain": [
       "((84907, 21), (24259, 21), (12130, 21))"
      ]
     },
     "execution_count": 11,
     "metadata": {},
     "output_type": "execute_result"
    }
   ],
   "source": [
    "import os\n",
    "path_dataset =C:\\Users\\syedm\\Desktop\\Electrical (Communication)\\8TH SEMESTER 2025\\INTRODUCTION TO MACHINE LEARNING LAB\\MACHINE LAB WORKS\\LAB 9\\\\AEP_hourly_2'\n",
    "path_tr = os.path.join(path_dataset, 'AEP_train.csv')\n",
    "df_tr = pd.read_csv(path_tr)\n",
    "train_set = df_tr.iloc[:].values\n",
    "path_v = os.path.join(path_dataset, 'AEP_validation.csv')\n",
    "df_v = pd.read_csv(path_v)\n",
    "validation_set = df_v.iloc[:].values \n",
    "path_te = os.path.join(path_dataset, 'AEP_test.csv')\n",
    "df_te = pd.read_csv(path_te)\n",
    "test_set = df_te.iloc[:].values \n",
    "\n",
    "path_scaler = os.path.join(path_dataset, 'AEP_Scaler.pkl')\n",
    "scaler         = pickle.load(open(path_scaler, 'rb'))\n",
    "\n",
    "train_set.shape, validation_set.shape, test_set.shape"
   ]
  },
  {
   "cell_type": "code",
   "execution_count": 12,
   "metadata": {},
   "outputs": [],
   "source": [
    "time_steps=24\n",
    "num_features=21"
   ]
  },
  {
   "cell_type": "code",
   "execution_count": 13,
   "metadata": {},
   "outputs": [
    {
     "name": "stdout",
     "output_type": "stream",
     "text": [
      "Time Consumed 1.8698985576629639 sec\n"
     ]
    }
   ],
   "source": [
    "start = time.time()\n",
    "train_X , train_y = univariate_multi_step(train_set, time_steps, target_col=0,target_len=1)\n",
    "validation_X, validation_y = univariate_multi_step(validation_set, time_steps, target_col=0,target_len=1)\n",
    "test_X, test_y = univariate_multi_step(test_set, time_steps, target_col=0,target_len=1)\n",
    "print('Time Consumed', time.time()-start, \"sec\")"
   ]
  },
  {
   "cell_type": "code",
   "execution_count": 14,
   "metadata": {},
   "outputs": [
    {
     "name": "stdout",
     "output_type": "stream",
     "text": [
      "Epoch 1/60\n",
      "2651/2653 [============================>.] - ETA: 0s - loss: 0.0432 - mae: 0.0432 - mape: 287.8660\n",
      "Epoch 1: val_loss improved from inf to 0.01441, saving model to C:\\Users\\musta\\Desktop\\ML lab\\lab 9\\E1-cp-0001-loss0.01.h5\n",
      "2653/2653 [==============================] - 74s 26ms/step - loss: 0.0432 - mae: 0.0432 - mape: 287.6988 - val_loss: 0.0144 - val_mae: 0.0144 - val_mape: 7.4275\n",
      "Epoch 2/60\n",
      "2650/2653 [============================>.] - ETA: 0s - loss: 0.0140 - mae: 0.0140 - mape: 356.5611\n",
      "Epoch 2: val_loss did not improve from 0.01441\n",
      "2653/2653 [==============================] - 52s 20ms/step - loss: 0.0140 - mae: 0.0140 - mape: 356.2209 - val_loss: 0.0168 - val_mae: 0.0168 - val_mape: 8.6580\n",
      "Epoch 3/60\n",
      "2653/2653 [==============================] - ETA: 0s - loss: 0.0123 - mae: 0.0123 - mape: 305.1355\n",
      "Epoch 3: val_loss improved from 0.01441 to 0.01256, saving model to C:\\Users\\musta\\Desktop\\ML lab\\lab 9\\E1-cp-0003-loss0.01.h5\n",
      "2653/2653 [==============================] - 52s 20ms/step - loss: 0.0123 - mae: 0.0123 - mape: 305.1355 - val_loss: 0.0126 - val_mae: 0.0126 - val_mape: 7.1617\n",
      "Epoch 4/60\n",
      "2652/2653 [============================>.] - ETA: 0s - loss: 0.0116 - mae: 0.0116 - mape: 219.1383\n",
      "Epoch 4: val_loss improved from 0.01256 to 0.01109, saving model to C:\\Users\\musta\\Desktop\\ML lab\\lab 9\\E1-cp-0004-loss0.01.h5\n",
      "2653/2653 [==============================] - 46s 17ms/step - loss: 0.0116 - mae: 0.0116 - mape: 219.0943 - val_loss: 0.0111 - val_mae: 0.0111 - val_mape: 4.8381\n",
      "Epoch 5/60\n",
      "2652/2653 [============================>.] - ETA: 0s - loss: 0.0111 - mae: 0.0111 - mape: 173.8889\n",
      "Epoch 5: val_loss improved from 0.01109 to 0.01071, saving model to C:\\Users\\musta\\Desktop\\ML lab\\lab 9\\E1-cp-0005-loss0.01.h5\n",
      "2653/2653 [==============================] - 52s 20ms/step - loss: 0.0111 - mae: 0.0111 - mape: 173.8532 - val_loss: 0.0107 - val_mae: 0.0107 - val_mape: 4.8849\n",
      "Epoch 6/60\n",
      "2652/2653 [============================>.] - ETA: 0s - loss: 0.0107 - mae: 0.0107 - mape: 297.8259\n",
      "Epoch 6: val_loss improved from 0.01071 to 0.01034, saving model to C:\\Users\\musta\\Desktop\\ML lab\\lab 9\\E1-cp-0006-loss0.01.h5\n",
      "2653/2653 [==============================] - 49s 18ms/step - loss: 0.0106 - mae: 0.0106 - mape: 297.7632 - val_loss: 0.0103 - val_mae: 0.0103 - val_mape: 4.7553\n",
      "Epoch 7/60\n",
      "2651/2653 [============================>.] - ETA: 0s - loss: 0.0101 - mae: 0.0101 - mape: 336.4945\n",
      "Epoch 7: val_loss improved from 0.01034 to 0.00917, saving model to C:\\Users\\musta\\Desktop\\ML lab\\lab 9\\E1-cp-0007-loss0.01.h5\n",
      "2653/2653 [==============================] - 56s 21ms/step - loss: 0.0101 - mae: 0.0101 - mape: 336.2991 - val_loss: 0.0092 - val_mae: 0.0092 - val_mape: 4.2977\n",
      "Epoch 8/60\n",
      "2650/2653 [============================>.] - ETA: 0s - loss: 0.0101 - mae: 0.0101 - mape: 223.5935\n",
      "Epoch 8: val_loss did not improve from 0.00917\n",
      "2653/2653 [==============================] - 53s 20ms/step - loss: 0.0101 - mae: 0.0101 - mape: 223.3810 - val_loss: 0.0099 - val_mae: 0.0099 - val_mape: 4.5267\n",
      "Epoch 9/60\n",
      "2652/2653 [============================>.] - ETA: 0s - loss: 0.0097 - mae: 0.0097 - mape: 68.9644\n",
      "Epoch 9: val_loss did not improve from 0.00917\n",
      "2653/2653 [==============================] - 50s 19ms/step - loss: 0.0097 - mae: 0.0097 - mape: 68.9505 - val_loss: 0.0099 - val_mae: 0.0099 - val_mape: 5.0217\n",
      "Epoch 10/60\n",
      "2653/2653 [==============================] - ETA: 0s - loss: 0.0097 - mae: 0.0097 - mape: 75.8974\n",
      "Epoch 10: val_loss did not improve from 0.00917\n",
      "2653/2653 [==============================] - 51s 19ms/step - loss: 0.0097 - mae: 0.0097 - mape: 75.8974 - val_loss: 0.0099 - val_mae: 0.0099 - val_mape: 4.6535\n",
      "Epoch 11/60\n",
      "2652/2653 [============================>.] - ETA: 0s - loss: 0.0095 - mae: 0.0095 - mape: 122.4065\n",
      "Epoch 11: val_loss improved from 0.00917 to 0.00858, saving model to C:\\Users\\musta\\Desktop\\ML lab\\lab 9\\E1-cp-0011-loss0.01.h5\n",
      "2653/2653 [==============================] - 56s 21ms/step - loss: 0.0095 - mae: 0.0095 - mape: 122.3809 - val_loss: 0.0086 - val_mae: 0.0086 - val_mape: 3.8569\n",
      "Epoch 12/60\n",
      "2651/2653 [============================>.] - ETA: 0s - loss: 0.0094 - mae: 0.0094 - mape: 126.6413\n",
      "Epoch 12: val_loss did not improve from 0.00858\n",
      "2653/2653 [==============================] - 52s 20ms/step - loss: 0.0094 - mae: 0.0094 - mape: 126.5689 - val_loss: 0.0094 - val_mae: 0.0094 - val_mape: 4.2983\n",
      "Epoch 13/60\n",
      "2652/2653 [============================>.] - ETA: 0s - loss: 0.0094 - mae: 0.0094 - mape: 212.8775\n",
      "Epoch 13: val_loss improved from 0.00858 to 0.00851, saving model to C:\\Users\\musta\\Desktop\\ML lab\\lab 9\\E1-cp-0013-loss0.01.h5\n",
      "2653/2653 [==============================] - 50s 19ms/step - loss: 0.0094 - mae: 0.0094 - mape: 212.8331 - val_loss: 0.0085 - val_mae: 0.0085 - val_mape: 3.9153\n",
      "Epoch 14/60\n",
      "2651/2653 [============================>.] - ETA: 0s - loss: 0.0091 - mae: 0.0091 - mape: 101.9660\n",
      "Epoch 14: val_loss did not improve from 0.00851\n",
      "2653/2653 [==============================] - 51s 19ms/step - loss: 0.0091 - mae: 0.0091 - mape: 101.9083 - val_loss: 0.0096 - val_mae: 0.0096 - val_mape: 4.4123\n",
      "Epoch 15/60\n",
      "2652/2653 [============================>.] - ETA: 0s - loss: 0.0092 - mae: 0.0092 - mape: 167.8383\n",
      "Epoch 15: val_loss did not improve from 0.00851\n",
      "2653/2653 [==============================] - 54s 20ms/step - loss: 0.0092 - mae: 0.0092 - mape: 167.8035 - val_loss: 0.0096 - val_mae: 0.0096 - val_mape: 4.0495\n",
      "Epoch 16/60\n",
      "2652/2653 [============================>.] - ETA: 0s - loss: 0.0090 - mae: 0.0090 - mape: 195.9155\n",
      "Epoch 16: val_loss improved from 0.00851 to 0.00813, saving model to C:\\Users\\musta\\Desktop\\ML lab\\lab 9\\E1-cp-0016-loss0.01.h5\n",
      "2653/2653 [==============================] - 59s 22ms/step - loss: 0.0090 - mae: 0.0090 - mape: 195.8745 - val_loss: 0.0081 - val_mae: 0.0081 - val_mape: 3.5770\n",
      "Epoch 17/60\n",
      "2651/2653 [============================>.] - ETA: 0s - loss: 0.0090 - mae: 0.0090 - mape: 133.9383\n",
      "Epoch 17: val_loss improved from 0.00813 to 0.00777, saving model to C:\\Users\\musta\\Desktop\\ML lab\\lab 9\\E1-cp-0017-loss0.01.h5\n",
      "2653/2653 [==============================] - 55s 21ms/step - loss: 0.0090 - mae: 0.0090 - mape: 133.8606 - val_loss: 0.0078 - val_mae: 0.0078 - val_mape: 3.4882\n",
      "Epoch 18/60\n",
      "2652/2653 [============================>.] - ETA: 0s - loss: 0.0089 - mae: 0.0089 - mape: 11.2115\n",
      "Epoch 18: val_loss did not improve from 0.00777\n",
      "2653/2653 [==============================] - 63s 24ms/step - loss: 0.0089 - mae: 0.0089 - mape: 11.2095 - val_loss: 0.0099 - val_mae: 0.0099 - val_mape: 5.2549\n",
      "Epoch 19/60\n",
      "2651/2653 [============================>.] - ETA: 0s - loss: 0.0088 - mae: 0.0088 - mape: 111.3744\n",
      "Epoch 19: val_loss did not improve from 0.00777\n",
      "2653/2653 [==============================] - 61s 23ms/step - loss: 0.0088 - mae: 0.0088 - mape: 111.3106 - val_loss: 0.0081 - val_mae: 0.0081 - val_mape: 3.6013\n",
      "Epoch 20/60\n",
      "2653/2653 [==============================] - ETA: 0s - loss: 0.0088 - mae: 0.0088 - mape: 140.7748\n",
      "Epoch 20: val_loss did not improve from 0.00777\n",
      "2653/2653 [==============================] - 57s 21ms/step - loss: 0.0088 - mae: 0.0088 - mape: 140.7748 - val_loss: 0.0086 - val_mae: 0.0086 - val_mape: 3.8125\n",
      "Epoch 21/60\n",
      "2651/2653 [============================>.] - ETA: 0s - loss: 0.0087 - mae: 0.0087 - mape: 165.4548\n",
      "Epoch 21: val_loss did not improve from 0.00777\n",
      "2653/2653 [==============================] - 55s 21ms/step - loss: 0.0087 - mae: 0.0087 - mape: 165.3585 - val_loss: 0.0093 - val_mae: 0.0093 - val_mape: 3.9683\n",
      "Epoch 22/60\n",
      "2651/2653 [============================>.] - ETA: 0s - loss: 0.0086 - mae: 0.0086 - mape: 39.0806\n",
      "Epoch 22: val_loss did not improve from 0.00777\n",
      "2653/2653 [==============================] - 52s 20ms/step - loss: 0.0086 - mae: 0.0086 - mape: 39.0588 - val_loss: 0.0084 - val_mae: 0.0084 - val_mape: 3.6628\n",
      "Epoch 23/60\n",
      "2651/2653 [============================>.] - ETA: 0s - loss: 0.0086 - mae: 0.0086 - mape: 67.3367\n",
      "Epoch 23: val_loss did not improve from 0.00777\n",
      "2653/2653 [==============================] - 85s 32ms/step - loss: 0.0086 - mae: 0.0086 - mape: 67.2987 - val_loss: 0.0079 - val_mae: 0.0079 - val_mape: 3.5285\n",
      "Epoch 24/60\n"
     ]
    },
    {
     "name": "stdout",
     "output_type": "stream",
     "text": [
      "2652/2653 [============================>.] - ETA: 0s - loss: 0.0086 - mae: 0.0086 - mape: 53.4591\n",
      "Epoch 24: val_loss did not improve from 0.00777\n",
      "2653/2653 [==============================] - 47s 18ms/step - loss: 0.0086 - mae: 0.0086 - mape: 53.4481 - val_loss: 0.0097 - val_mae: 0.0097 - val_mape: 4.5056\n",
      "Epoch 25/60\n",
      "2650/2653 [============================>.] - ETA: 0s - loss: 0.0084 - mae: 0.0084 - mape: 31.7562\n",
      "Epoch 25: val_loss did not improve from 0.00777\n",
      "2653/2653 [==============================] - 55s 21ms/step - loss: 0.0084 - mae: 0.0084 - mape: 31.7286 - val_loss: 0.0092 - val_mae: 0.0092 - val_mape: 3.9567\n",
      "Epoch 26/60\n",
      "2651/2653 [============================>.] - ETA: 0s - loss: 0.0084 - mae: 0.0084 - mape: 60.8586\n",
      "Epoch 26: val_loss did not improve from 0.00777\n",
      "2653/2653 [==============================] - 70s 26ms/step - loss: 0.0084 - mae: 0.0084 - mape: 60.8241 - val_loss: 0.0086 - val_mae: 0.0086 - val_mape: 3.7615\n",
      "Epoch 27/60\n",
      "2652/2653 [============================>.] - ETA: 0s - loss: 0.0084 - mae: 0.0084 - mape: 152.3099\n",
      "Epoch 27: val_loss did not improve from 0.00777\n",
      "2653/2653 [==============================] - 69s 26ms/step - loss: 0.0084 - mae: 0.0084 - mape: 152.2782 - val_loss: 0.0080 - val_mae: 0.0080 - val_mape: 3.7025\n",
      "Epoch 28/60\n",
      "2652/2653 [============================>.] - ETA: 0s - loss: 0.0083 - mae: 0.0083 - mape: 60.2641\n",
      "Epoch 28: val_loss did not improve from 0.00777\n",
      "2653/2653 [==============================] - 58s 22ms/step - loss: 0.0083 - mae: 0.0083 - mape: 60.2519 - val_loss: 0.0083 - val_mae: 0.0083 - val_mape: 4.1237\n",
      "Epoch 29/60\n",
      "2651/2653 [============================>.] - ETA: 0s - loss: 0.0083 - mae: 0.0083 - mape: 85.1243\n",
      "Epoch 29: val_loss did not improve from 0.00777\n",
      "2653/2653 [==============================] - 61s 23ms/step - loss: 0.0083 - mae: 0.0083 - mape: 85.0760 - val_loss: 0.0081 - val_mae: 0.0081 - val_mape: 3.3336\n",
      "Epoch 30/60\n",
      "2652/2653 [============================>.] - ETA: 0s - loss: 0.0083 - mae: 0.0083 - mape: 72.6325\n",
      "Epoch 30: val_loss did not improve from 0.00777\n",
      "2653/2653 [==============================] - 51s 19ms/step - loss: 0.0083 - mae: 0.0083 - mape: 72.6178 - val_loss: 0.0090 - val_mae: 0.0090 - val_mape: 4.2761\n",
      "Epoch 31/60\n",
      "2651/2653 [============================>.] - ETA: 0s - loss: 0.0082 - mae: 0.0082 - mape: 5.3471\n",
      "Epoch 32: val_loss improved from 0.00738 to 0.00729, saving model to C:\\Users\\musta\\Desktop\\ML lab\\lab 9\\E1-cp-0032-loss0.01.h5\n",
      "2653/2653 [==============================] - 64s 24ms/step - loss: 0.0082 - mae: 0.0082 - mape: 5.3456 - val_loss: 0.0073 - val_mae: 0.0073 - val_mape: 3.2257\n",
      "Epoch 33/60\n",
      "2650/2653 [============================>.] - ETA: 0s - loss: 0.0081 - mae: 0.0081 - mape: 341.8686\n",
      "Epoch 35: val_loss did not improve from 0.00729\n",
      "2653/2653 [==============================] - 50s 19ms/step - loss: 0.0081 - mae: 0.0081 - mape: 341.5412 - val_loss: 0.0084 - val_mae: 0.0084 - val_mape: 3.8367\n",
      "Epoch 36/60\n",
      "2650/2653 [============================>.] - ETA: 0s - loss: 0.0081 - mae: 0.0081 - mape: 152.8706\n",
      "Epoch 36: val_loss did not improve from 0.00729\n",
      "2653/2653 [==============================] - 65s 25ms/step - loss: 0.0081 - mae: 0.0081 - mape: 152.7249 - val_loss: 0.0084 - val_mae: 0.0084 - val_mape: 4.0067\n",
      "Epoch 37/60\n",
      "2653/2653 [==============================] - ETA: 0s - loss: 0.0081 - mae: 0.0081 - mape: 12.8108\n",
      "Epoch 37: val_loss did not improve from 0.00729\n",
      "2653/2653 [==============================] - 45s 17ms/step - loss: 0.0081 - mae: 0.0081 - mape: 12.8108 - val_loss: 0.0082 - val_mae: 0.0082 - val_mape: 3.8736\n",
      "Epoch 38/60\n",
      "2653/2653 [==============================] - ETA: 0s - loss: 0.0081 - mae: 0.0081 - mape: 142.2114\n",
      "Epoch 38: val_loss did not improve from 0.00729\n",
      "2653/2653 [==============================] - 478s 180ms/step - loss: 0.0081 - mae: 0.0081 - mape: 142.2114 - val_loss: 0.0082 - val_mae: 0.0082 - val_mape: 3.9988\n",
      "Epoch 39/60\n",
      "2652/2653 [============================>.] - ETA: 0s - loss: 0.0080 - mae: 0.0080 - mape: 155.0076\n",
      "Epoch 39: val_loss improved from 0.00729 to 0.00706, saving model to C:\\Users\\musta\\Desktop\\ML lab\\lab 9\\E1-cp-0039-loss0.01.h5\n",
      "2653/2653 [==============================] - 52s 20ms/step - loss: 0.0080 - mae: 0.0080 - mape: 154.9755 - val_loss: 0.0071 - val_mae: 0.0071 - val_mape: 3.0867\n",
      "Epoch 40/60\n",
      "2650/2653 [============================>.] - ETA: 0s - loss: 0.0080 - mae: 0.0080 - mape: 64.6735\n",
      "Epoch 40: val_loss did not improve from 0.00706\n",
      "2653/2653 [==============================] - 90s 34ms/step - loss: 0.0080 - mae: 0.0080 - mape: 64.6129 - val_loss: 0.0080 - val_mae: 0.0080 - val_mape: 3.7244\n",
      "Epoch 41/60\n",
      "2652/2653 [============================>.] - ETA: 0s - loss: 0.0080 - mae: 0.0080 - mape: 97.9592\n",
      "Epoch 41: val_loss did not improve from 0.00706\n",
      "2653/2653 [==============================] - 73s 27ms/step - loss: 0.0080 - mae: 0.0080 - mape: 97.9389 - val_loss: 0.0076 - val_mae: 0.0076 - val_mape: 3.4108\n",
      "Epoch 42/60\n",
      "2653/2653 [==============================] - ETA: 0s - loss: 0.0079 - mae: 0.0079 - mape: 166.9431\n",
      "Epoch 42: val_loss did not improve from 0.00706\n",
      "2653/2653 [==============================] - 71s 27ms/step - loss: 0.0079 - mae: 0.0079 - mape: 166.9431 - val_loss: 0.0099 - val_mae: 0.0099 - val_mape: 4.5131\n",
      "Epoch 43/60\n",
      "2651/2653 [============================>.] - ETA: 0s - loss: 0.0079 - mae: 0.0079 - mape: 164.2009\n",
      "Epoch 43: val_loss did not improve from 0.00706\n",
      "2653/2653 [==============================] - 77s 29ms/step - loss: 0.0079 - mae: 0.0079 - mape: 164.1056 - val_loss: 0.0072 - val_mae: 0.0072 - val_mape: 3.1720\n",
      "Epoch 44/60\n",
      "2652/2653 [============================>.] - ETA: 0s - loss: 0.0079 - mae: 0.0079 - mape: 141.7383\n",
      "Epoch 44: val_loss did not improve from 0.00706\n",
      "2653/2653 [==============================] - 84s 32ms/step - loss: 0.0079 - mae: 0.0079 - mape: 141.7088 - val_loss: 0.0078 - val_mae: 0.0078 - val_mape: 3.4424\n",
      "Epoch 45/60\n",
      "2653/2653 [==============================] - ETA: 0s - loss: 0.0078 - mae: 0.0078 - mape: 187.9915\n",
      "Epoch 45: val_loss did not improve from 0.00706\n",
      "2653/2653 [==============================] - 101s 38ms/step - loss: 0.0078 - mae: 0.0078 - mape: 187.9915 - val_loss: 0.0075 - val_mae: 0.0075 - val_mape: 3.2108\n",
      "Epoch 46/60\n",
      "2653/2653 [==============================] - ETA: 0s - loss: 0.0078 - mae: 0.0078 - mape: 218.6090\n",
      "Epoch 46: val_loss did not improve from 0.00706\n",
      "2653/2653 [==============================] - 105s 39ms/step - loss: 0.0078 - mae: 0.0078 - mape: 218.6090 - val_loss: 0.0076 - val_mae: 0.0076 - val_mape: 3.4445\n",
      "Epoch 47/60\n",
      "2653/2653 [==============================] - ETA: 0s - loss: 0.0078 - mae: 0.0078 - mape: 14.5397\n",
      "Epoch 47: val_loss did not improve from 0.00706\n",
      "2653/2653 [==============================] - 99s 37ms/step - loss: 0.0078 - mae: 0.0078 - mape: 14.5397 - val_loss: 0.0076 - val_mae: 0.0076 - val_mape: 3.7211\n",
      "Epoch 48/60\n",
      "2652/2653 [============================>.] - ETA: 0s - loss: 0.0078 - mae: 0.0078 - mape: 99.3550\n",
      "Epoch 48: val_loss did not improve from 0.00706\n",
      "2653/2653 [==============================] - 109s 41ms/step - loss: 0.0078 - mae: 0.0078 - mape: 99.3342 - val_loss: 0.0088 - val_mae: 0.0088 - val_mape: 4.2116\n",
      "Epoch 49/60\n",
      "2652/2653 [============================>.] - ETA: 0s - loss: 0.0078 - mae: 0.0078 - mape: 130.1853\n",
      "Epoch 50: val_loss did not improve from 0.00706\n",
      "2653/2653 [==============================] - 63s 24ms/step - loss: 0.0078 - mae: 0.0078 - mape: 130.1582 - val_loss: 0.0077 - val_mae: 0.0077 - val_mape: 3.3280\n",
      "Epoch 51/60\n",
      "2652/2653 [============================>.] - ETA: 0s - loss: 0.0076 - mae: 0.0076 - mape: 204.7654\n",
      "Epoch 51: val_loss did not improve from 0.00706\n",
      "2653/2653 [==============================] - 82s 31ms/step - loss: 0.0076 - mae: 0.0076 - mape: 204.7225 - val_loss: 0.0081 - val_mae: 0.0081 - val_mape: 3.4421\n",
      "Epoch 52/60\n",
      "2652/2653 [============================>.] - ETA: 0s - loss: 0.0076 - mae: 0.0076 - mape: 90.3752\n",
      "Epoch 52: val_loss did not improve from 0.00706\n",
      "2653/2653 [==============================] - 61s 23ms/step - loss: 0.0076 - mae: 0.0076 - mape: 90.3565 - val_loss: 0.0084 - val_mae: 0.0084 - val_mape: 3.7746\n",
      "Epoch 53/60\n"
     ]
    },
    {
     "name": "stdout",
     "output_type": "stream",
     "text": [
      "2653/2653 [==============================] - ETA: 0s - loss: 0.0077 - mae: 0.0077 - mape: 253.0774\n",
      "Epoch 53: val_loss did not improve from 0.00706\n",
      "2653/2653 [==============================] - 80s 30ms/step - loss: 0.0077 - mae: 0.0077 - mape: 253.0774 - val_loss: 0.0102 - val_mae: 0.0102 - val_mape: 4.1305\n",
      "Epoch 54/60\n",
      "2653/2653 [==============================] - ETA: 0s - loss: 0.0077 - mae: 0.0077 - mape: 283.6000\n",
      "Epoch 54: val_loss did not improve from 0.00706\n",
      "2653/2653 [==============================] - 97s 37ms/step - loss: 0.0077 - mae: 0.0077 - mape: 283.6000 - val_loss: 0.0071 - val_mae: 0.0071 - val_mape: 3.0414\n",
      "Epoch 55/60\n",
      "2653/2653 [==============================] - ETA: 0s - loss: 0.0076 - mae: 0.0076 - mape: 141.7097\n",
      "Epoch 55: val_loss did not improve from 0.00706\n",
      "2653/2653 [==============================] - 93s 35ms/step - loss: 0.0076 - mae: 0.0076 - mape: 141.7097 - val_loss: 0.0092 - val_mae: 0.0092 - val_mape: 5.0870\n",
      "Epoch 56/60\n",
      "2652/2653 [============================>.] - ETA: 0s - loss: 0.0076 - mae: 0.0076 - mape: 197.6202\n",
      "Epoch 56: val_loss improved from 0.00706 to 0.00691, saving model to C:\\Users\\musta\\Desktop\\ML lab\\lab 9\\E1-cp-0056-loss0.01.h5\n",
      "2653/2653 [==============================] - 92s 35ms/step - loss: 0.0076 - mae: 0.0076 - mape: 197.5788 - val_loss: 0.0069 - val_mae: 0.0069 - val_mape: 3.0409\n",
      "Epoch 57/60\n",
      "2652/2653 [============================>.] - ETA: 0s - loss: 0.0076 - mae: 0.0076 - mape: 224.9446\n",
      "Epoch 57: val_loss did not improve from 0.00691\n",
      "2653/2653 [==============================] - 100s 38ms/step - loss: 0.0076 - mae: 0.0076 - mape: 224.8973 - val_loss: 0.0072 - val_mae: 0.0072 - val_mape: 3.1183\n",
      "Epoch 58/60\n",
      "2653/2653 [==============================] - ETA: 0s - loss: 0.0075 - mae: 0.0075 - mape: 158.1522\n",
      "Epoch 58: val_loss did not improve from 0.00691\n",
      "2653/2653 [==============================] - 94s 36ms/step - loss: 0.0075 - mae: 0.0075 - mape: 158.1522 - val_loss: 0.0075 - val_mae: 0.0075 - val_mape: 3.3894\n",
      "Epoch 59/60\n",
      "2651/2653 [============================>.] - ETA: 0s - loss: 0.0076 - mae: 0.0076 - mape: 226.4229\n",
      "Epoch 59: val_loss did not improve from 0.00691\n",
      "2653/2653 [==============================] - 102s 38ms/step - loss: 0.0076 - mae: 0.0076 - mape: 226.2914 - val_loss: 0.0084 - val_mae: 0.0084 - val_mape: 3.6032\n",
      "Epoch 60/60\n",
      "2653/2653 [==============================] - ETA: 0s - loss: 0.0075 - mae: 0.0075 - mape: 273.0439\n",
      "Epoch 60: val_loss did not improve from 0.00691\n",
      "2653/2653 [==============================] - 103s 39ms/step - loss: 0.0075 - mae: 0.0075 - mape: 273.0439 - val_loss: 0.0073 - val_mae: 0.0073 - val_mape: 3.4067\n"
     ]
    }
   ],
   "source": [
    "epochs = 60\n",
    "verbose = 1 #0\n",
    "batch_size = 32\n",
    "History = model.fit(train_X,\n",
    "                        train_y,\n",
    "                        batch_size=batch_size,   \n",
    "                        epochs = epochs, \n",
    "                        validation_data = (validation_X,validation_y),\n",
    "                        callbacks=callbacks,verbose = verbose)"
   ]
  },
  {
   "cell_type": "code",
   "execution_count": 15,
   "metadata": {},
   "outputs": [
    {
     "name": "stdout",
     "output_type": "stream",
     "text": [
      "379/379 [==============================] - 8s 11ms/step\n",
      "Mean Absolute Error (MAE): 109.06\n",
      "Median Absolute Error (MedAE): 87.51\n",
      "Mean Squared Error (MSE): 20597.92\n",
      "Root Mean Squared Error (RMSE): 143.52\n",
      "Mean Absolute Percentage Error (MAPE): 0.74 %\n",
      "Median Absolute Percentage Error (MDAPE): 0.6 %\n",
      "\n",
      "\n",
      "y_test_unscaled.shape=  (12105, 1)\n",
      "y_pred.shape=  (12105, 1)\n"
     ]
    }
   ],
   "source": [
    "\n",
    "model = load_model(r'C:\\Users\\syedm\\Desktop\\Electrical (Communication)\\8TH SEMESTER 2025\\INTRODUCTION TO MACHINE LEARNING LAB\\MACHINE LAB WORKS\\LAB 9\\E1-cp-0056-loss0.01.h5')\n",
    "\n",
    "y_pred_scaled   = model.predict(test_X)\n",
    "y_pred          = scaler.inverse_transform(y_pred_scaled)\n",
    "y_test_unscaled = scaler.inverse_transform(test_y)\n",
    "# Mean Absolute Error (MAE)\n",
    "MAE = np.mean(abs(y_pred - y_test_unscaled)) \n",
    "print('Mean Absolute Error (MAE): ' + str(np.round(MAE, 2)))\n",
    "\n",
    "# Median Absolute Error (MedAE)\n",
    "MEDAE = np.median(abs(y_pred - y_test_unscaled))\n",
    "print('Median Absolute Error (MedAE): ' + str(np.round(MEDAE, 2)))\n",
    "\n",
    "# Mean Squared Error (MSE)\n",
    "MSE = np.square(np.subtract(y_pred, y_test_unscaled)).mean()\n",
    "print('Mean Squared Error (MSE): ' + str(np.round(MSE, 2)))\n",
    "\n",
    "# Root Mean Squarred Error (RMSE) \n",
    "RMSE = np.sqrt(np.mean(np.square(y_pred - y_test_unscaled)))\n",
    "print('Root Mean Squared Error (RMSE): ' + str(np.round(RMSE, 2)))\n",
    "\n",
    "# Mean Absolute Percentage Error (MAPE)\n",
    "MAPE = np.mean((np.abs(np.subtract(y_test_unscaled, y_pred)/ y_test_unscaled))) * 100\n",
    "print('Mean Absolute Percentage Error (MAPE): ' + str(np.round(MAPE, 2)) + ' %')\n",
    "\n",
    "# Median Absolute Percentage Error (MDAPE)\n",
    "MDAPE = np.median((np.abs(np.subtract(y_test_unscaled, y_pred)/ y_test_unscaled))) * 100\n",
    "print('Median Absolute Percentage Error (MDAPE): ' + str(np.round(MDAPE, 2)) + ' %')\n",
    "\n",
    "print('\\n\\ny_test_unscaled.shape= ',y_test_unscaled.shape)\n",
    "print('y_pred.shape= ',y_pred.shape)"
   ]
  },
  {
   "cell_type": "code",
   "execution_count": 16,
   "metadata": {},
   "outputs": [],
   "source": [
    "checkpoints = r'C:\\Users\\syedm\\Desktop\\Electrical (Communication)\\8TH SEMESTER 2025\\INTRODUCTION TO MACHINE LEARNING LAB\\MACHINE LAB WORKS\\LAB 9\\E2-cp-{epoch:04d}-loss{val_loss:.2f}.h5'\n",
    "model=r'C:\\Users\\syedm\\Desktop\\Electrical (Communication)\\8TH SEMESTER 2025\\INTRODUCTION TO MACHINE LEARNING LAB\\MACHINE LAB WORKS\\LAB 9\\E1-cp-0039-loss0.01.h5'\n",
    "start_epoch= 40"
   ]
  },
  {
   "cell_type": "code",
   "execution_count": 17,
   "metadata": {},
   "outputs": [
    {
     "name": "stdout",
     "output_type": "stream",
     "text": [
      "[INFO] loading C:\\Users\\musta\\Desktop\\ML lab\\lab 9\\E1-cp-0039-loss0.01.h5...\n",
      "[INFO] old learning rate: 0.0010000000474974513\n",
      "[INFO] new learning rate: 9.999999747378752e-05\n"
     ]
    }
   ],
   "source": [
    "# construct the callback to save only the *best* model to disk\n",
    "# based on the validation loss\n",
    "EpochCheckpoint1 = ModelCheckpoint(checkpoints,\n",
    "                             monitor=\"val_loss\",\n",
    "                             save_best_only=True, \n",
    "                             verbose=1)\n",
    "TrainingMonitor1=TrainingMonitor(FIG_PATH, jsonPath=JSON_PATH, startAt=start_epoch)\n",
    "\n",
    "# construct the set of callbacks\n",
    "callbacks = [EpochCheckpoint1,TrainingMonitor1]\n",
    "# if there is no specific model checkpoint supplied, then initialize\n",
    "# the network and compile the model\n",
    "if model is None:\n",
    "    print(\"[INFO] compiling model...\")\n",
    "    model = PC.build(time_steps=24, num_features=21, reg=0.0005)\n",
    "    opt = Adam(1e-3)\n",
    "    model.compile(loss= 'mae', optimizer=opt, metrics=[\"mae\", \"mape\"])\n",
    "# otherwise, load the checkpoint from disk\n",
    "else:\n",
    "    print(\"[INFO] loading {}...\".format(model))\n",
    "    model = load_model(model)\n",
    "\n",
    "    # update the learning rate\n",
    "    print(\"[INFO] old learning rate: {}\".format(K.get_value(model.optimizer.lr)))\n",
    "    K.set_value(model.optimizer.lr, 1e-4)\n",
    "    print(\"[INFO] new learning rate: {}\".format(K.get_value(model.optimizer.lr)))"
   ]
  },
  {
   "cell_type": "code",
   "execution_count": 18,
   "metadata": {},
   "outputs": [
    {
     "name": "stdout",
     "output_type": "stream",
     "text": [
      "Epoch 1/10\n",
      "2653/2653 [==============================] - ETA: 0s - loss: 0.0067 - mae: 0.0067 - mape: 86.5551\n",
      "Epoch 1: val_loss improved from inf to 0.00681, saving model to C:\\Users\\musta\\Desktop\\ML lab\\lab 9\\E2-cp-0001-loss0.01.h5\n",
      "2653/2653 [==============================] - 91s 32ms/step - loss: 0.0067 - mae: 0.0067 - mape: 86.5551 - val_loss: 0.0068 - val_mae: 0.0068 - val_mape: 3.0075\n",
      "Epoch 2/10\n",
      "2652/2653 [============================>.] - ETA: 0s - loss: 0.0067 - mae: 0.0067 - mape: 63.2501\n",
      "Epoch 2: val_loss improved from 0.00681 to 0.00675, saving model to C:\\Users\\musta\\Desktop\\ML lab\\lab 9\\E2-cp-0002-loss0.01.h5\n",
      "2653/2653 [==============================] - 71s 27ms/step - loss: 0.0067 - mae: 0.0067 - mape: 63.2369 - val_loss: 0.0067 - val_mae: 0.0067 - val_mape: 3.0087\n",
      "Epoch 3/10\n",
      "2651/2653 [============================>.] - ETA: 0s - loss: 0.0066 - mae: 0.0066 - mape: 120.6042\n",
      "Epoch 3: val_loss improved from 0.00675 to 0.00670, saving model to C:\\Users\\musta\\Desktop\\ML lab\\lab 9\\E2-cp-0003-loss0.01.h5\n",
      "2653/2653 [==============================] - 73s 27ms/step - loss: 0.0066 - mae: 0.0066 - mape: 120.5343 - val_loss: 0.0067 - val_mae: 0.0067 - val_mape: 2.9800\n",
      "Epoch 4/10\n",
      "2652/2653 [============================>.] - ETA: 0s - loss: 0.0066 - mae: 0.0066 - mape: 81.4328\n",
      "Epoch 4: val_loss did not improve from 0.00670\n",
      "2653/2653 [==============================] - 76s 28ms/step - loss: 0.0066 - mae: 0.0066 - mape: 81.4160 - val_loss: 0.0070 - val_mae: 0.0070 - val_mape: 3.1155\n",
      "Epoch 5/10\n",
      "2653/2653 [==============================] - ETA: 0s - loss: 0.0066 - mae: 0.0066 - mape: 82.1563\n",
      "Epoch 5: val_loss did not improve from 0.00670\n",
      "2653/2653 [==============================] - 69s 26ms/step - loss: 0.0066 - mae: 0.0066 - mape: 82.1563 - val_loss: 0.0069 - val_mae: 0.0069 - val_mape: 3.0410\n",
      "Epoch 6/10\n",
      "2653/2653 [==============================] - ETA: 0s - loss: 0.0066 - mae: 0.0066 - mape: 91.5852\n",
      "Epoch 6: val_loss improved from 0.00670 to 0.00666, saving model to C:\\Users\\musta\\Desktop\\ML lab\\lab 9\\E2-cp-0006-loss0.01.h5\n",
      "2653/2653 [==============================] - 106s 40ms/step - loss: 0.0066 - mae: 0.0066 - mape: 91.5852 - val_loss: 0.0067 - val_mae: 0.0067 - val_mape: 2.9268\n",
      "Epoch 7/10\n",
      "2652/2653 [============================>.] - ETA: 0s - loss: 0.0066 - mae: 0.0066 - mape: 124.4474\n",
      "Epoch 7: val_loss did not improve from 0.00666\n",
      "2653/2653 [==============================] - 73s 28ms/step - loss: 0.0066 - mae: 0.0066 - mape: 124.4213 - val_loss: 0.0068 - val_mae: 0.0068 - val_mape: 2.9982\n",
      "Epoch 8/10\n",
      "2652/2653 [============================>.] - ETA: 0s - loss: 0.0066 - mae: 0.0066 - mape: 96.4063\n",
      "Epoch 8: val_loss did not improve from 0.00666\n",
      "2653/2653 [==============================] - 57s 22ms/step - loss: 0.0066 - mae: 0.0066 - mape: 96.3863 - val_loss: 0.0070 - val_mae: 0.0070 - val_mape: 3.0471\n",
      "Epoch 9/10\n",
      "2653/2653 [==============================] - ETA: 0s - loss: 0.0066 - mae: 0.0066 - mape: 67.9632\n",
      "Epoch 9: val_loss improved from 0.00666 to 0.00662, saving model to C:\\Users\\musta\\Desktop\\ML lab\\lab 9\\E2-cp-0009-loss0.01.h5\n",
      "2653/2653 [==============================] - 55s 21ms/step - loss: 0.0066 - mae: 0.0066 - mape: 67.9632 - val_loss: 0.0066 - val_mae: 0.0066 - val_mape: 2.9244\n",
      "Epoch 10/10\n",
      "2653/2653 [==============================] - ETA: 0s - loss: 0.0066 - mae: 0.0066 - mape: 74.2051\n",
      "Epoch 10: val_loss did not improve from 0.00662\n",
      "2653/2653 [==============================] - 66s 25ms/step - loss: 0.0066 - mae: 0.0066 - mape: 74.2051 - val_loss: 0.0068 - val_mae: 0.0068 - val_mape: 2.9816\n"
     ]
    }
   ],
   "source": [
    "epochs = 10\n",
    "verbose = 1 #0\n",
    "batch_size = 32\n",
    "History = model.fit(train_X,\n",
    "                        train_y,\n",
    "                        batch_size=batch_size,   \n",
    "                        epochs = epochs, \n",
    "                        validation_data = (validation_X,validation_y),\n",
    "                        callbacks=callbacks,\n",
    "                        verbose = verbose)"
   ]
  },
  {
   "cell_type": "code",
   "execution_count": 19,
   "metadata": {},
   "outputs": [
    {
     "name": "stdout",
     "output_type": "stream",
     "text": [
      "379/379 [==============================] - 3s 6ms/step\n",
      "Mean Absolute Error (MAE): 103.86\n",
      "Median Absolute Error (MedAE): 82.84\n",
      "Mean Squared Error (MSE): 18813.43\n",
      "Root Mean Squared Error (RMSE): 137.16\n",
      "Mean Absolute Percentage Error (MAPE): 0.71 %\n",
      "Median Absolute Percentage Error (MDAPE): 0.58 %\n",
      "\n",
      "\n",
      "y_test_unscaled.shape=  (12105, 1)\n",
      "y_pred.shape=  (12105, 1)\n"
     ]
    }
   ],
   "source": [
    "\n",
    "model = load_model(r'C:\\Users\\syedm\\Desktop\\Electrical (Communication)\\8TH SEMESTER 2025\\INTRODUCTION TO MACHINE LEARNING LAB\\MACHINE LAB WORKS\\LAB 9\\E2-cp-0009-loss0.01.h5')\n",
    "\n",
    "y_pred_scaled   = model.predict(test_X)\n",
    "y_pred          = scaler.inverse_transform(y_pred_scaled)\n",
    "y_test_unscaled = scaler.inverse_transform(test_y)\n",
    "# Mean Absolute Error (MAE)\n",
    "MAE = np.mean(abs(y_pred - y_test_unscaled)) \n",
    "print('Mean Absolute Error (MAE): ' + str(np.round(MAE, 2)))\n",
    "\n",
    "# Median Absolute Error (MedAE)\n",
    "MEDAE = np.median(abs(y_pred - y_test_unscaled))\n",
    "print('Median Absolute Error (MedAE): ' + str(np.round(MEDAE, 2)))\n",
    "\n",
    "# Mean Squared Error (MSE)\n",
    "MSE = np.square(np.subtract(y_pred, y_test_unscaled)).mean()\n",
    "print('Mean Squared Error (MSE): ' + str(np.round(MSE, 2)))\n",
    "\n",
    "# Root Mean Squarred Error (RMSE) \n",
    "RMSE = np.sqrt(np.mean(np.square(y_pred - y_test_unscaled)))\n",
    "print('Root Mean Squared Error (RMSE): ' + str(np.round(RMSE, 2)))\n",
    "\n",
    "# Mean Absolute Percentage Error (MAPE)\n",
    "MAPE = np.mean((np.abs(np.subtract(y_test_unscaled, y_pred)/ y_test_unscaled))) * 100\n",
    "print('Mean Absolute Percentage Error (MAPE): ' + str(np.round(MAPE, 2)) + ' %')\n",
    "\n",
    "# Median Absolute Percentage Error (MDAPE)\n",
    "MDAPE = np.median((np.abs(np.subtract(y_test_unscaled, y_pred)/ y_test_unscaled))) * 100\n",
    "print('Median Absolute Percentage Error (MDAPE): ' + str(np.round(MDAPE, 2)) + ' %')\n",
    "\n",
    "print('\\n\\ny_test_unscaled.shape= ',y_test_unscaled.shape)\n",
    "print('y_pred.shape= ',y_pred.shape)"
   ]
  },
  {
   "cell_type": "code",
   "execution_count": null,
   "metadata": {},
   "outputs": [],
   "source": []
  }
 ],
 "metadata": {
  "kernelspec": {
   "display_name": "Python 3 (ipykernel)",
   "language": "python",
   "name": "python3"
  },
  "language_info": {
   "codemirror_mode": {
    "name": "ipython",
    "version": 3
   },
   "file_extension": ".py",
   "mimetype": "text/x-python",
   "name": "python",
   "nbconvert_exporter": "python",
   "pygments_lexer": "ipython3",
   "version": "3.12.6"
  }
 },
 "nbformat": 4,
 "nbformat_minor": 4
}
