{
 "cells": [
  {
   "cell_type": "code",
   "execution_count": 13,
   "metadata": {},
   "outputs": [],
   "source": [
    "import os\n",
    "sys.path.append(r'C:\\Users\\syedm\\Desktop\\Electrical (Communication)\\8TH SEMESTER 2025\\INTRODUCTION TO MACHINE LEARNING LAB\\MACHINE LAB WORKS\\LAB 8\\timeseires')"
   ]
  },
  {
   "cell_type": "code",
   "execution_count": 14,
   "metadata": {},
   "outputs": [],
   "source": [
    "from sklearn.metrics import mean_squared_error, mean_absolute_error, explained_variance_score, r2_score\n",
    "from timeseires.utils.to_split import to_split\n",
    "from timeseires.utils.multivariate_multi_step import multivariate_multi_step\n",
    "from timeseires.utils.multivariate_single_step import multivariate_single_step\n",
    "from timeseires.utils.univariate_multi_step import univariate_multi_step\n",
    "from timeseires.utils.univariate_single_step import univariate_single_step\n",
    "from timeseires.utils.CosineAnnealingLRS import CosineAnnealingLRS\n",
    "from timeseires.callbacks.EpochCheckpoint import EpochCheckpoint\n",
    "from tensorflow.keras.callbacks import ModelCheckpoint\n",
    "from timeseires.callbacks.TrainingMonitor import TrainingMonitor\n",
    "from tensorflow.keras.optimizers import Adam\n",
    "from tensorflow.keras.optimizers import SGD\n",
    "from tensorflow.keras.models import load_model\n",
    "from tensorflow.keras.layers import LSTM, Bidirectional, Add\n",
    "from tensorflow.keras.layers import BatchNormalization\n",
    "from tensorflow.keras.layers import Conv1D,TimeDistributed\n",
    "from tensorflow.keras.layers import Dense, Dropout, Activation, Flatten,MaxPooling1D,Concatenate,AveragePooling1D, GlobalMaxPooling1D, Input\n",
    "from tensorflow.keras.models import Sequential,Model\n",
    "import pandas as pd\n",
    "import time, pickle\n",
    "import numpy as np\n",
    "import tensorflow.keras.backend as K\n",
    "import tensorflow\n",
    "from tensorflow.keras.layers import Input, Reshape, Lambda\n",
    "from tensorflow.keras.layers import Layer, Flatten, LeakyReLU, concatenate, Dense\n",
    "from tensorflow.keras.regularizers import l2\n",
    "import glob\n",
    "import h5py\n",
    "import matplotlib.pyplot as plt\n",
    "from keras.callbacks import Callback"
   ]
  },
  {
   "cell_type": "code",
   "execution_count": 15,
   "metadata": {},
   "outputs": [],
   "source": [
    "#lookback = 24\n",
    "model = None\n",
    "start_epoch = 0\n",
    "time_steps=24\n",
    "num_features=21"
   ]
  },
  {
   "cell_type": "code",
   "execution_count": 16,
   "metadata": {},
   "outputs": [],
   "source": [
    "def CNN():\n",
    "    input_data = Input(shape=(time_steps, num_features))\n",
    "    x1 = Conv1D(16, 2, activation=\"relu\")(input_data)\n",
    "    x2 = Conv1D(16, 2, activation=\"relu\")(x1)\n",
    "    flatten = Flatten()(x2)\n",
    "    output_data = Dense(1)(flatten)\n",
    "    model = Model(input_data, output_data)\n",
    "    return model"
   ]
  },
  {
   "cell_type": "code",
   "execution_count": 17,
   "metadata": {},
   "outputs": [
    {
     "name": "stdout",
     "output_type": "stream",
     "text": [
      "Model: \"model_1\"\n",
      "_________________________________________________________________\n",
      " Layer (type)                Output Shape              Param #   \n",
      "=================================================================\n",
      " input_2 (InputLayer)        [(None, 24, 21)]          0         \n",
      "                                                                 \n",
      " conv1d_2 (Conv1D)           (None, 23, 16)            688       \n",
      "                                                                 \n",
      " conv1d_3 (Conv1D)           (None, 22, 16)            528       \n",
      "                                                                 \n",
      " flatten_1 (Flatten)         (None, 352)               0         \n",
      "                                                                 \n",
      " dense_1 (Dense)             (None, 1)                 353       \n",
      "                                                                 \n",
      "=================================================================\n",
      "Total params: 1,569\n",
      "Trainable params: 1,569\n",
      "Non-trainable params: 0\n",
      "_________________________________________________________________\n"
     ]
    }
   ],
   "source": [
    "model1 = CNN()\n",
    "model1.summary()"
   ]
  },
  {
   "cell_type": "code",
   "execution_count": 18,
   "metadata": {},
   "outputs": [
    {
     "name": "stdout",
     "output_type": "stream",
     "text": [
      "You must install pydot (`pip install pydot`) and install graphviz (see instructions at https://graphviz.gitlab.io/download/) for plot_model to work.\n"
     ]
    }
   ],
   "source": [
    "tensorflow.keras.utils.plot_model(model1 )"
   ]
  },
  {
   "cell_type": "code",
   "execution_count": 19,
   "metadata": {},
   "outputs": [],
   "source": [
    "checkpoints = r'C:\\Users\\syedm\\Desktop\\Electrical (Communication)\\8TH SEMESTER 2025\\INTRODUCTION TO MACHINE LEARNING LAB\\MACHINE LAB WORKS\\LAB 8\\\\E1-cp-{epoch:04d}-loss{val_loss:.2f}.h5'\n",
    "OUTPUT_PATH = r'C:\\Users\\syedm\\Desktop\\Electrical (Communication)\\8TH SEMESTER 2025\\INTRODUCTION TO MACHINE LEARNING LAB\\MACHINE LAB WORKS\\LAB 8'\n",
    "FIG_PATH =  os.path.sep.join([OUTPUT_PATH,\"\\history.png\"])\n",
    "JSON_PATH = os.path.sep.join([OUTPUT_PATH,\"\\history.json\"])"
   ]
  },
  {
   "cell_type": "code",
   "execution_count": 20,
   "metadata": {},
   "outputs": [],
   "source": [
    "# construct the callback to save only the *best* model to disk\n",
    "# based on the validation loss\n",
    "EpochCheckpoint1 = ModelCheckpoint(checkpoints,\n",
    "                             monitor=\"val_loss\",\n",
    "                             save_best_only=True, \n",
    "                             verbose=1)\n",
    "TrainingMonitor1=TrainingMonitor(FIG_PATH, jsonPath=JSON_PATH, startAt=start_epoch)\n",
    "\n",
    "# construct the set of callbacks\n",
    "callbacks = [EpochCheckpoint1,TrainingMonitor1]"
   ]
  },
  {
   "cell_type": "code",
   "execution_count": 21,
   "metadata": {},
   "outputs": [
    {
     "name": "stdout",
     "output_type": "stream",
     "text": [
      "[INFO] compiling model...\n"
     ]
    }
   ],
   "source": [
    "# if there is no specific model checkpoint supplied, then initialize\n",
    "# the network and compile the model\n",
    "if model is None:\n",
    "    print(\"[INFO] compiling model...\")\n",
    "    model =CNN()\n",
    "    opt = Adam(1e-3)\n",
    "    model.compile(loss= 'mae', optimizer=opt, metrics=[\"mae\", \"mape\"])\n",
    "# otherwise, load the checkpoint from disk\n",
    "else:\n",
    "    print(\"[INFO] loading {}...\".format(model))\n",
    "    model = load_model(model)\n",
    "\n",
    "    # update the learning rate\n",
    "    print(\"[INFO] old learning rate: {}\".format(K.get_value(model.optimizer.lr)))\n",
    "    K.set_value(model.optimizer.lr, 1e-4)\n",
    "    print(\"[INFO] new learning rate: {}\".format(K.get_value(model.optimizer.lr)))"
   ]
  },
  {
   "cell_type": "code",
   "execution_count": 24,
   "metadata": {},
   "outputs": [
    {
     "data": {
      "text/plain": [
       "((84907, 21), (24259, 21), (12130, 21))"
      ]
     },
     "execution_count": 24,
     "metadata": {},
     "output_type": "execute_result"
    }
   ],
   "source": [
    "import os\n",
    "path_dataset ='C:\\Users\\syedm\\Desktop\\Electrical (Communication)\\8TH SEMESTER 2025\\INTRODUCTION TO MACHINE LEARNING LAB\\MACHINE LAB WORKS\\LAB 8\\\\AEP_hourly_2'\n",
    "path_tr = os.path.join(path_dataset, 'AEP_train.csv')\n",
    "df_tr = pd.read_csv(path_tr)\n",
    "train_set = df_tr.iloc[:].values\n",
    "path_v = os.path.join(path_dataset, 'AEP_validation.csv')\n",
    "df_v = pd.read_csv(path_v)\n",
    "validation_set = df_v.iloc[:].values \n",
    "path_te = os.path.join(path_dataset, 'AEP_test.csv')\n",
    "df_te = pd.read_csv(path_te)\n",
    "test_set = df_te.iloc[:].values \n",
    "\n",
    "path_scaler = os.path.join(path_dataset, 'AEP_Scaler.pkl')\n",
    "scaler         = pickle.load(open(path_scaler, 'rb'))\n",
    "\n",
    "train_set.shape, validation_set.shape, test_set.shape"
   ]
  },
  {
   "cell_type": "code",
   "execution_count": 25,
   "metadata": {},
   "outputs": [],
   "source": [
    "time_steps=24\n",
    "num_features=21"
   ]
  },
  {
   "cell_type": "code",
   "execution_count": 26,
   "metadata": {},
   "outputs": [
    {
     "name": "stdout",
     "output_type": "stream",
     "text": [
      "Time Consumed 5.220271348953247 sec\n"
     ]
    }
   ],
   "source": [
    "start = time.time()\n",
    "train_X , train_y = univariate_multi_step(train_set, time_steps, target_col=0,target_len=1)\n",
    "validation_X, validation_y = univariate_multi_step(validation_set, time_steps, target_col=0,target_len=1)\n",
    "test_X, test_y = univariate_multi_step(test_set, time_steps, target_col=0,target_len=1)\n",
    "print('Time Consumed', time.time()-start, \"sec\")"
   ]
  },
  {
   "cell_type": "code",
   "execution_count": 27,
   "metadata": {},
   "outputs": [
    {
     "name": "stdout",
     "output_type": "stream",
     "text": [
      "Epoch 1/60\n",
      "2652/2653 [============================>.] - ETA: 0s - loss: 0.0426 - mae: 0.0426 - mape: 648.6614\n",
      "Epoch 1: val_loss improved from inf to 0.02426, saving model to C:\\Users\\musta\\Desktop\\ML lab\\lab 8\\E1-cp-0001-loss0.02.h5\n",
      "2653/2653 [==============================] - 35s 12ms/step - loss: 0.0426 - mae: 0.0426 - mape: 648.5253 - val_loss: 0.0243 - val_mae: 0.0243 - val_mape: 10.9787\n",
      "Epoch 2/60\n",
      "2652/2653 [============================>.] - ETA: 0s - loss: 0.0210 - mae: 0.0210 - mape: 587.7868\n",
      "Epoch 2: val_loss improved from 0.02426 to 0.01631, saving model to C:\\Users\\musta\\Desktop\\ML lab\\lab 8\\E1-cp-0002-loss0.02.h5\n",
      "2653/2653 [==============================] - 36s 13ms/step - loss: 0.0210 - mae: 0.0210 - mape: 587.6629 - val_loss: 0.0163 - val_mae: 0.0163 - val_mape: 7.4489\n",
      "Epoch 3/60\n",
      "2652/2653 [============================>.] - ETA: 0s - loss: 0.0163 - mae: 0.0163 - mape: 800.0812\n",
      "Epoch 3: val_loss improved from 0.01631 to 0.01531, saving model to C:\\Users\\musta\\Desktop\\ML lab\\lab 8\\E1-cp-0003-loss0.02.h5\n",
      "2653/2653 [==============================] - 41s 15ms/step - loss: 0.0163 - mae: 0.0163 - mape: 799.9122 - val_loss: 0.0153 - val_mae: 0.0153 - val_mape: 6.7451\n",
      "Epoch 4/60\n",
      "2649/2653 [============================>.] - ETA: 0s - loss: 0.0135 - mae: 0.0135 - mape: 459.1176\n",
      "Epoch 4: val_loss improved from 0.01531 to 0.01186, saving model to C:\\Users\\musta\\Desktop\\ML lab\\lab 8\\E1-cp-0004-loss0.01.h5\n",
      "2653/2653 [==============================] - 36s 13ms/step - loss: 0.0135 - mae: 0.0135 - mape: 458.5130 - val_loss: 0.0119 - val_mae: 0.0119 - val_mape: 5.3883\n",
      "Epoch 5/60\n",
      "2652/2653 [============================>.] - ETA: 0s - loss: 0.0115 - mae: 0.0115 - mape: 338.1860\n",
      "Epoch 5: val_loss did not improve from 0.01186\n",
      "2653/2653 [==============================] - 30s 11ms/step - loss: 0.0115 - mae: 0.0115 - mape: 338.1151 - val_loss: 0.0120 - val_mae: 0.0120 - val_mape: 7.5668\n",
      "Epoch 6/60\n",
      "2651/2653 [============================>.] - ETA: 0s - loss: 0.0102 - mae: 0.0102 - mape: 375.1800\n",
      "Epoch 6: val_loss improved from 0.01186 to 0.00954, saving model to C:\\Users\\musta\\Desktop\\ML lab\\lab 8\\E1-cp-0006-loss0.01.h5\n",
      "2653/2653 [==============================] - 31s 12ms/step - loss: 0.0102 - mae: 0.0102 - mape: 374.9605 - val_loss: 0.0095 - val_mae: 0.0095 - val_mape: 5.0002\n",
      "Epoch 7/60\n",
      "2652/2653 [============================>.] - ETA: 0s - loss: 0.0096 - mae: 0.0096 - mape: 402.8624\n",
      "Epoch 7: val_loss did not improve from 0.00954\n",
      "2653/2653 [==============================] - 27s 10ms/step - loss: 0.0096 - mae: 0.0096 - mape: 402.7781 - val_loss: 0.0100 - val_mae: 0.0100 - val_mape: 4.9501\n",
      "Epoch 8/60\n",
      "2652/2653 [============================>.] - ETA: 0s - loss: 0.0093 - mae: 0.0093 - mape: 453.0283\n",
      "Epoch 8: val_loss improved from 0.00954 to 0.00807, saving model to C:\\Users\\musta\\Desktop\\ML lab\\lab 8\\E1-cp-0008-loss0.01.h5\n",
      "2653/2653 [==============================] - 34s 13ms/step - loss: 0.0093 - mae: 0.0093 - mape: 452.9329 - val_loss: 0.0081 - val_mae: 0.0081 - val_mape: 4.5590\n",
      "Epoch 9/60\n",
      "2651/2653 [============================>.] - ETA: 0s - loss: 0.0093 - mae: 0.0093 - mape: 431.3425\n",
      "Epoch 9: val_loss did not improve from 0.00807\n",
      "2653/2653 [==============================] - 25s 9ms/step - loss: 0.0093 - mae: 0.0093 - mape: 431.0918 - val_loss: 0.0103 - val_mae: 0.0103 - val_mape: 4.8797\n",
      "Epoch 10/60\n",
      "2648/2653 [============================>.] - ETA: 0s - loss: 0.0091 - mae: 0.0091 - mape: 353.5296\n",
      "Epoch 10: val_loss did not improve from 0.00807\n",
      "2653/2653 [==============================] - 23s 9ms/step - loss: 0.0091 - mae: 0.0091 - mape: 352.9260 - val_loss: 0.0090 - val_mae: 0.0090 - val_mape: 4.7088\n",
      "Epoch 11/60\n",
      "2645/2653 [============================>.] - ETA: 0s - loss: 0.0090 - mae: 0.0090 - mape: 400.6019\n",
      "Epoch 11: val_loss did not improve from 0.00807\n",
      "2653/2653 [==============================] - 22s 8ms/step - loss: 0.0090 - mae: 0.0090 - mape: 399.4682 - val_loss: 0.0086 - val_mae: 0.0086 - val_mape: 4.4017\n",
      "Epoch 12/60\n",
      "2647/2653 [============================>.] - ETA: 0s - loss: 0.0091 - mae: 0.0091 - mape: 662.7462\n",
      "Epoch 12: val_loss did not improve from 0.00807\n",
      "2653/2653 [==============================] - 21s 8ms/step - loss: 0.0091 - mae: 0.0091 - mape: 661.3630 - val_loss: 0.0091 - val_mae: 0.0091 - val_mape: 4.1991\n",
      "Epoch 13/60\n",
      "2651/2653 [============================>.] - ETA: 0s - loss: 0.0088 - mae: 0.0088 - mape: 230.7369\n",
      "Epoch 13: val_loss did not improve from 0.00807\n",
      "2653/2653 [==============================] - 21s 8ms/step - loss: 0.0088 - mae: 0.0088 - mape: 230.6024 - val_loss: 0.0095 - val_mae: 0.0095 - val_mape: 5.3524\n",
      "Epoch 14/60\n",
      "2648/2653 [============================>.] - ETA: 0s - loss: 0.0089 - mae: 0.0089 - mape: 250.7300\n",
      "Epoch 14: val_loss improved from 0.00807 to 0.00793, saving model to C:\\Users\\musta\\Desktop\\ML lab\\lab 8\\E1-cp-0014-loss0.01.h5\n",
      "2653/2653 [==============================] - 20s 7ms/step - loss: 0.0089 - mae: 0.0089 - mape: 250.3034 - val_loss: 0.0079 - val_mae: 0.0079 - val_mape: 3.8702\n",
      "Epoch 15/60\n",
      "2649/2653 [============================>.] - ETA: 0s - loss: 0.0088 - mae: 0.0088 - mape: 117.8495\n",
      "Epoch 15: val_loss did not improve from 0.00793\n",
      "2653/2653 [==============================] - 24s 9ms/step - loss: 0.0088 - mae: 0.0088 - mape: 117.6947 - val_loss: 0.0094 - val_mae: 0.0094 - val_mape: 5.4319\n",
      "Epoch 16/60\n",
      "2650/2653 [============================>.] - ETA: 0s - loss: 0.0089 - mae: 0.0089 - mape: 355.4810\n",
      "Epoch 16: val_loss did not improve from 0.00793\n",
      "2653/2653 [==============================] - 32s 12ms/step - loss: 0.0089 - mae: 0.0089 - mape: 355.1399 - val_loss: 0.0101 - val_mae: 0.0101 - val_mape: 4.7877\n",
      "Epoch 17/60\n",
      "2650/2653 [============================>.] - ETA: 0s - loss: 0.0086 - mae: 0.0086 - mape: 419.9025\n",
      "Epoch 17: val_loss improved from 0.00793 to 0.00791, saving model to C:\\Users\\musta\\Desktop\\ML lab\\lab 8\\E1-cp-0017-loss0.01.h5\n",
      "2653/2653 [==============================] - 29s 11ms/step - loss: 0.0086 - mae: 0.0086 - mape: 419.4995 - val_loss: 0.0079 - val_mae: 0.0079 - val_mape: 3.8092\n",
      "Epoch 18/60\n",
      "2652/2653 [============================>.] - ETA: 0s - loss: 0.0086 - mae: 0.0086 - mape: 291.0379\n",
      "Epoch 18: val_loss did not improve from 0.00791\n",
      "2653/2653 [==============================] - 29s 11ms/step - loss: 0.0086 - mae: 0.0086 - mape: 290.9768 - val_loss: 0.0084 - val_mae: 0.0084 - val_mape: 4.1300\n",
      "Epoch 19/60\n",
      "2651/2653 [============================>.] - ETA: 0s - loss: 0.0085 - mae: 0.0085 - mape: 289.8520\n",
      "Epoch 19: val_loss did not improve from 0.00791\n",
      "2653/2653 [==============================] - 26s 10ms/step - loss: 0.0085 - mae: 0.0085 - mape: 289.6839 - val_loss: 0.0087 - val_mae: 0.0087 - val_mape: 4.0785\n",
      "Epoch 20/60\n",
      "2653/2653 [==============================] - ETA: 0s - loss: 0.0085 - mae: 0.0085 - mape: 218.9394\n",
      "Epoch 20: val_loss did not improve from 0.00791\n",
      "2653/2653 [==============================] - 28s 11ms/step - loss: 0.0085 - mae: 0.0085 - mape: 218.9394 - val_loss: 0.0097 - val_mae: 0.0097 - val_mape: 4.7964\n",
      "Epoch 21/60\n",
      "2652/2653 [============================>.] - ETA: 0s - loss: 0.0087 - mae: 0.0087 - mape: 238.0703\n",
      "Epoch 21: val_loss did not improve from 0.00791\n",
      "2653/2653 [==============================] - 27s 10ms/step - loss: 0.0087 - mae: 0.0087 - mape: 238.0204 - val_loss: 0.0081 - val_mae: 0.0081 - val_mape: 3.9464\n",
      "Epoch 22/60\n",
      "2647/2653 [============================>.] - ETA: 0s - loss: 0.0085 - mae: 0.0085 - mape: 214.2743\n",
      "Epoch 22: val_loss did not improve from 0.00791\n",
      "2653/2653 [==============================] - 26s 10ms/step - loss: 0.0085 - mae: 0.0085 - mape: 213.8305 - val_loss: 0.0081 - val_mae: 0.0081 - val_mape: 4.4902\n",
      "Epoch 23/60\n",
      "2652/2653 [============================>.] - ETA: 0s - loss: 0.0086 - mae: 0.0086 - mape: 391.3973\n",
      "Epoch 23: val_loss did not improve from 0.00791\n",
      "2653/2653 [==============================] - 27s 10ms/step - loss: 0.0086 - mae: 0.0086 - mape: 391.3152 - val_loss: 0.0098 - val_mae: 0.0098 - val_mape: 4.5299\n",
      "Epoch 24/60\n",
      "2651/2653 [============================>.] - ETA: 0s - loss: 0.0084 - mae: 0.0084 - mape: 432.3195\n",
      "Epoch 24: val_loss did not improve from 0.00791\n",
      "2653/2653 [==============================] - 26s 10ms/step - loss: 0.0084 - mae: 0.0084 - mape: 432.0665 - val_loss: 0.0102 - val_mae: 0.0102 - val_mape: 5.4609\n"
     ]
    },
    {
     "name": "stdout",
     "output_type": "stream",
     "text": [
      "Epoch 25/60\n",
      "2648/2653 [============================>.] - ETA: 0s - loss: 0.0085 - mae: 0.0085 - mape: 271.4257\n",
      "Epoch 25: val_loss improved from 0.00791 to 0.00760, saving model to C:\\Users\\musta\\Desktop\\ML lab\\lab 8\\E1-cp-0025-loss0.01.h5\n",
      "2653/2653 [==============================] - 21s 8ms/step - loss: 0.0085 - mae: 0.0085 - mape: 270.9630 - val_loss: 0.0076 - val_mae: 0.0076 - val_mape: 3.7300\n",
      "Epoch 26/60\n",
      "2648/2653 [============================>.] - ETA: 0s - loss: 0.0085 - mae: 0.0085 - mape: 419.8245\n",
      "Epoch 26: val_loss improved from 0.00760 to 0.00724, saving model to C:\\Users\\musta\\Desktop\\ML lab\\lab 8\\E1-cp-0026-loss0.01.h5\n",
      "2653/2653 [==============================] - 23s 9ms/step - loss: 0.0085 - mae: 0.0085 - mape: 419.1065 - val_loss: 0.0072 - val_mae: 0.0072 - val_mape: 3.8858\n",
      "Epoch 27/60\n",
      "2649/2653 [============================>.] - ETA: 0s - loss: 0.0084 - mae: 0.0084 - mape: 376.6553\n",
      "Epoch 27: val_loss did not improve from 0.00724\n",
      "2653/2653 [==============================] - 23s 9ms/step - loss: 0.0084 - mae: 0.0084 - mape: 376.1543 - val_loss: 0.0084 - val_mae: 0.0084 - val_mape: 4.9393\n",
      "Epoch 28/60\n",
      "2649/2653 [============================>.] - ETA: 0s - loss: 0.0083 - mae: 0.0083 - mape: 485.0372\n",
      "Epoch 28: val_loss did not improve from 0.00724\n",
      "2653/2653 [==============================] - 25s 10ms/step - loss: 0.0083 - mae: 0.0083 - mape: 484.3892 - val_loss: 0.0076 - val_mae: 0.0076 - val_mape: 4.1576\n",
      "Epoch 29/60\n",
      "2650/2653 [============================>.] - ETA: 0s - loss: 0.0085 - mae: 0.0085 - mape: 499.8377\n",
      "Epoch 29: val_loss did not improve from 0.00724\n",
      "2653/2653 [==============================] - 22s 8ms/step - loss: 0.0085 - mae: 0.0085 - mape: 499.3575 - val_loss: 0.0095 - val_mae: 0.0095 - val_mape: 4.6814\n",
      "Epoch 30/60\n",
      "2653/2653 [==============================] - ETA: 0s - loss: 0.0084 - mae: 0.0084 - mape: 658.5996\n",
      "Epoch 30: val_loss did not improve from 0.00724\n",
      "2653/2653 [==============================] - 28s 10ms/step - loss: 0.0084 - mae: 0.0084 - mape: 658.5996 - val_loss: 0.0083 - val_mae: 0.0083 - val_mape: 4.0856\n",
      "Epoch 31/60\n",
      "2644/2653 [============================>.] - ETA: 0s - loss: 0.0083 - mae: 0.0083 - mape: 369.8793\n",
      "Epoch 31: val_loss did not improve from 0.00724\n",
      "2653/2653 [==============================] - 19s 7ms/step - loss: 0.0083 - mae: 0.0083 - mape: 368.6954 - val_loss: 0.0086 - val_mae: 0.0086 - val_mape: 4.1907\n",
      "Epoch 32/60\n",
      "2653/2653 [==============================] - ETA: 0s - loss: 0.0084 - mae: 0.0084 - mape: 405.4299\n",
      "Epoch 32: val_loss did not improve from 0.00724\n",
      "2653/2653 [==============================] - 18s 7ms/step - loss: 0.0084 - mae: 0.0084 - mape: 405.4299 - val_loss: 0.0075 - val_mae: 0.0075 - val_mape: 4.0024\n",
      "Epoch 33/60\n",
      "2651/2653 [============================>.] - ETA: 0s - loss: 0.0083 - mae: 0.0083 - mape: 288.4746\n",
      "Epoch 33: val_loss did not improve from 0.00724\n",
      "2653/2653 [==============================] - 34s 13ms/step - loss: 0.0083 - mae: 0.0083 - mape: 288.3073 - val_loss: 0.0084 - val_mae: 0.0084 - val_mape: 4.6494\n",
      "Epoch 34/60\n",
      "2645/2653 [============================>.] - ETA: 0s - loss: 0.0084 - mae: 0.0084 - mape: 415.8083\n",
      "Epoch 34: val_loss did not improve from 0.00724\n",
      "2653/2653 [==============================] - 29s 11ms/step - loss: 0.0084 - mae: 0.0084 - mape: 414.6310 - val_loss: 0.0092 - val_mae: 0.0092 - val_mape: 4.0526\n",
      "Epoch 35/60\n",
      "2647/2653 [============================>.] - ETA: 0s - loss: 0.0083 - mae: 0.0083 - mape: 217.4322\n",
      "Epoch 35: val_loss did not improve from 0.00724\n",
      "2653/2653 [==============================] - 18s 7ms/step - loss: 0.0083 - mae: 0.0083 - mape: 216.9819 - val_loss: 0.0081 - val_mae: 0.0081 - val_mape: 4.4580\n",
      "Epoch 36/60\n",
      "2651/2653 [============================>.] - ETA: 0s - loss: 0.0083 - mae: 0.0083 - mape: 421.9796\n",
      "Epoch 36: val_loss did not improve from 0.00724\n",
      "2653/2653 [==============================] - 25s 10ms/step - loss: 0.0083 - mae: 0.0083 - mape: 421.7328 - val_loss: 0.0095 - val_mae: 0.0095 - val_mape: 4.4180\n",
      "Epoch 37/60\n",
      "2647/2653 [============================>.] - ETA: 0s - loss: 0.0082 - mae: 0.0082 - mape: 346.4728\n",
      "Epoch 37: val_loss did not improve from 0.00724\n",
      "2653/2653 [==============================] - 16s 6ms/step - loss: 0.0082 - mae: 0.0082 - mape: 345.7515 - val_loss: 0.0077 - val_mae: 0.0077 - val_mape: 3.9366\n",
      "Epoch 38/60\n",
      "2647/2653 [============================>.] - ETA: 0s - loss: 0.0083 - mae: 0.0083 - mape: 726.3220\n",
      "Epoch 38: val_loss did not improve from 0.00724\n",
      "2653/2653 [==============================] - 18s 7ms/step - loss: 0.0083 - mae: 0.0083 - mape: 724.8038 - val_loss: 0.0082 - val_mae: 0.0082 - val_mape: 4.6536\n",
      "Epoch 39/60\n",
      "2648/2653 [============================>.] - ETA: 0s - loss: 0.0082 - mae: 0.0082 - mape: 417.2507\n",
      "Epoch 39: val_loss did not improve from 0.00724\n",
      "2653/2653 [==============================] - 22s 8ms/step - loss: 0.0082 - mae: 0.0082 - mape: 416.5373 - val_loss: 0.0081 - val_mae: 0.0081 - val_mape: 4.2488\n",
      "Epoch 40/60\n",
      "2653/2653 [==============================] - ETA: 0s - loss: 0.0082 - mae: 0.0082 - mape: 547.4350\n",
      "Epoch 40: val_loss did not improve from 0.00724\n",
      "2653/2653 [==============================] - 19s 7ms/step - loss: 0.0082 - mae: 0.0082 - mape: 547.4350 - val_loss: 0.0078 - val_mae: 0.0078 - val_mape: 4.3513\n",
      "Epoch 41/60\n",
      "2649/2653 [============================>.] - ETA: 0s - loss: 0.0083 - mae: 0.0083 - mape: 338.6743\n",
      "Epoch 41: val_loss did not improve from 0.00724\n",
      "2653/2653 [==============================] - 19s 7ms/step - loss: 0.0083 - mae: 0.0083 - mape: 338.2373 - val_loss: 0.0081 - val_mae: 0.0081 - val_mape: 3.7948\n",
      "Epoch 42/60\n",
      "2644/2653 [============================>.] - ETA: 0s - loss: 0.0082 - mae: 0.0082 - mape: 546.3082\n",
      "Epoch 42: val_loss did not improve from 0.00724\n",
      "2653/2653 [==============================] - 20s 8ms/step - loss: 0.0082 - mae: 0.0082 - mape: 544.5526 - val_loss: 0.0079 - val_mae: 0.0079 - val_mape: 3.9876\n",
      "Epoch 43/60\n",
      "2646/2653 [============================>.] - ETA: 0s - loss: 0.0081 - mae: 0.0081 - mape: 523.6898\n",
      "Epoch 43: val_loss did not improve from 0.00724\n",
      "2653/2653 [==============================] - 20s 7ms/step - loss: 0.0081 - mae: 0.0081 - mape: 522.4004 - val_loss: 0.0081 - val_mae: 0.0081 - val_mape: 3.7956\n",
      "Epoch 44/60\n",
      "2652/2653 [============================>.] - ETA: 0s - loss: 0.0082 - mae: 0.0082 - mape: 542.7950\n",
      "Epoch 44: val_loss did not improve from 0.00724\n",
      "2653/2653 [==============================] - 22s 8ms/step - loss: 0.0082 - mae: 0.0082 - mape: 542.6804 - val_loss: 0.0073 - val_mae: 0.0073 - val_mape: 3.6738\n",
      "Epoch 45/60\n",
      "2646/2653 [============================>.] - ETA: 0s - loss: 0.0081 - mae: 0.0081 - mape: 301.9958\n",
      "Epoch 45: val_loss did not improve from 0.00724\n",
      "2653/2653 [==============================] - 17s 6ms/step - loss: 0.0081 - mae: 0.0081 - mape: 301.2550 - val_loss: 0.0077 - val_mae: 0.0077 - val_mape: 3.7787\n",
      "Epoch 46/60\n",
      "2646/2653 [============================>.] - ETA: 0s - loss: 0.0082 - mae: 0.0082 - mape: 592.5627\n",
      "Epoch 46: val_loss did not improve from 0.00724\n",
      "2653/2653 [==============================] - 20s 8ms/step - loss: 0.0082 - mae: 0.0082 - mape: 591.1030 - val_loss: 0.0074 - val_mae: 0.0074 - val_mape: 3.5261\n",
      "Epoch 47/60\n",
      "2653/2653 [==============================] - ETA: 0s - loss: 0.0082 - mae: 0.0082 - mape: 652.0987\n",
      "Epoch 47: val_loss did not improve from 0.00724\n",
      "2653/2653 [==============================] - 18s 7ms/step - loss: 0.0082 - mae: 0.0082 - mape: 652.0987 - val_loss: 0.0076 - val_mae: 0.0076 - val_mape: 4.0028\n",
      "Epoch 48/60\n",
      "2652/2653 [============================>.] - ETA: 0s - loss: 0.0080 - mae: 0.0080 - mape: 452.9249\n",
      "Epoch 48: val_loss did not improve from 0.00724\n",
      "2653/2653 [==============================] - 23s 9ms/step - loss: 0.0080 - mae: 0.0080 - mape: 452.8295 - val_loss: 0.0074 - val_mae: 0.0074 - val_mape: 3.6042\n",
      "Epoch 49/60\n",
      "2651/2653 [============================>.] - ETA: 0s - loss: 0.0081 - mae: 0.0081 - mape: 431.9994\n",
      "Epoch 49: val_loss improved from 0.00724 to 0.00710, saving model to C:\\Users\\musta\\Desktop\\ML lab\\lab 8\\E1-cp-0049-loss0.01.h5\n",
      "2653/2653 [==============================] - 22s 8ms/step - loss: 0.0081 - mae: 0.0081 - mape: 431.7466 - val_loss: 0.0071 - val_mae: 0.0071 - val_mape: 3.6621\n"
     ]
    },
    {
     "name": "stdout",
     "output_type": "stream",
     "text": [
      "Epoch 50/60\n",
      "2647/2653 [============================>.] - ETA: 0s - loss: 0.0081 - mae: 0.0081 - mape: 572.4722\n",
      "Epoch 50: val_loss did not improve from 0.00710\n",
      "2653/2653 [==============================] - 19s 7ms/step - loss: 0.0081 - mae: 0.0081 - mape: 571.2766 - val_loss: 0.0075 - val_mae: 0.0075 - val_mape: 3.8432\n",
      "Epoch 51/60\n",
      "2647/2653 [============================>.] - ETA: 0s - loss: 0.0080 - mae: 0.0080 - mape: 392.2985\n",
      "Epoch 51: val_loss did not improve from 0.00710\n",
      "2653/2653 [==============================] - 18s 7ms/step - loss: 0.0080 - mae: 0.0080 - mape: 391.4815 - val_loss: 0.0078 - val_mae: 0.0078 - val_mape: 3.8407\n",
      "Epoch 52/60\n",
      "2647/2653 [============================>.] - ETA: 0s - loss: 0.0081 - mae: 0.0081 - mape: 645.0965\n",
      "Epoch 52: val_loss did not improve from 0.00710\n",
      "2653/2653 [==============================] - 20s 8ms/step - loss: 0.0081 - mae: 0.0081 - mape: 643.7507 - val_loss: 0.0079 - val_mae: 0.0079 - val_mape: 4.0727\n",
      "Epoch 53/60\n",
      "2647/2653 [============================>.] - ETA: 0s - loss: 0.0081 - mae: 0.0081 - mape: 429.6450\n",
      "Epoch 53: val_loss did not improve from 0.00710\n",
      "2653/2653 [==============================] - 20s 8ms/step - loss: 0.0081 - mae: 0.0081 - mape: 428.7508 - val_loss: 0.0091 - val_mae: 0.0091 - val_mape: 5.0453\n",
      "Epoch 54/60\n",
      "2652/2653 [============================>.] - ETA: 0s - loss: 0.0080 - mae: 0.0080 - mape: 324.8044\n",
      "Epoch 54: val_loss did not improve from 0.00710\n",
      "2653/2653 [==============================] - 22s 8ms/step - loss: 0.0080 - mae: 0.0080 - mape: 324.7359 - val_loss: 0.0079 - val_mae: 0.0079 - val_mape: 4.0099\n",
      "Epoch 55/60\n",
      "2652/2653 [============================>.] - ETA: 0s - loss: 0.0081 - mae: 0.0081 - mape: 292.2261\n",
      "Epoch 55: val_loss did not improve from 0.00710\n",
      "2653/2653 [==============================] - 28s 11ms/step - loss: 0.0081 - mae: 0.0081 - mape: 292.1646 - val_loss: 0.0074 - val_mae: 0.0074 - val_mape: 3.6558\n",
      "Epoch 56/60\n",
      "2648/2653 [============================>.] - ETA: 0s - loss: 0.0081 - mae: 0.0081 - mape: 553.0368\n",
      "Epoch 56: val_loss did not improve from 0.00710\n",
      "2653/2653 [==============================] - 29s 11ms/step - loss: 0.0081 - mae: 0.0081 - mape: 552.0916 - val_loss: 0.0081 - val_mae: 0.0081 - val_mape: 4.3393\n",
      "Epoch 57/60\n",
      "2648/2653 [============================>.] - ETA: 0s - loss: 0.0081 - mae: 0.0081 - mape: 337.9963\n",
      "Epoch 57: val_loss did not improve from 0.00710\n",
      "2653/2653 [==============================] - 16s 6ms/step - loss: 0.0081 - mae: 0.0081 - mape: 337.4199 - val_loss: 0.0081 - val_mae: 0.0081 - val_mape: 3.8302\n",
      "Epoch 58/60\n",
      "2653/2653 [==============================] - ETA: 0s - loss: 0.0080 - mae: 0.0080 - mape: 528.8381\n",
      "Epoch 58: val_loss did not improve from 0.00710\n",
      "2653/2653 [==============================] - 25s 9ms/step - loss: 0.0080 - mae: 0.0080 - mape: 528.8381 - val_loss: 0.0088 - val_mae: 0.0088 - val_mape: 4.5997\n",
      "Epoch 59/60\n",
      "2650/2653 [============================>.] - ETA: 0s - loss: 0.0080 - mae: 0.0080 - mape: 406.5846\n",
      "Epoch 59: val_loss improved from 0.00710 to 0.00694, saving model to C:\\Users\\musta\\Desktop\\ML lab\\lab 8\\E1-cp-0059-loss0.01.h5\n",
      "2653/2653 [==============================] - 23s 9ms/step - loss: 0.0080 - mae: 0.0080 - mape: 406.1942 - val_loss: 0.0069 - val_mae: 0.0069 - val_mape: 3.8442\n",
      "Epoch 60/60\n",
      "2652/2653 [============================>.] - ETA: 0s - loss: 0.0079 - mae: 0.0079 - mape: 485.4917\n",
      "Epoch 60: val_loss did not improve from 0.00694\n",
      "2653/2653 [==============================] - 20s 7ms/step - loss: 0.0079 - mae: 0.0079 - mape: 485.3897 - val_loss: 0.0081 - val_mae: 0.0081 - val_mape: 4.4114\n"
     ]
    }
   ],
   "source": [
    "epochs = 60\n",
    "verbose = 1 #0\n",
    "batch_size = 32\n",
    "History = model.fit(train_X,\n",
    "                        train_y,\n",
    "                        batch_size=batch_size,   \n",
    "                        epochs = epochs, \n",
    "                        validation_data = (validation_X,validation_y),\n",
    "                        callbacks=callbacks,verbose = verbose)"
   ]
  },
  {
   "cell_type": "code",
   "execution_count": 28,
   "metadata": {},
   "outputs": [
    {
     "name": "stdout",
     "output_type": "stream",
     "text": [
      "379/379 [==============================] - 8s 7ms/step\n",
      "Mean Absolute Error (MAE): 107.37\n",
      "Median Absolute Error (MedAE): 87.05\n",
      "Mean Squared Error (MSE): 19766.47\n",
      "Root Mean Squared Error (RMSE): 140.59\n",
      "Mean Absolute Percentage Error (MAPE): 0.74 %\n",
      "Median Absolute Percentage Error (MDAPE): 0.59 %\n",
      "\n",
      "\n",
      "y_test_unscaled.shape=  (12105, 1)\n",
      "y_pred.shape=  (12105, 1)\n"
     ]
    }
   ],
   "source": [
    "\n",
    "model = load_model(r'C:\\Users\\syedm\\Desktop\\Electrical (Communication)\\8TH SEMESTER 2025\\INTRODUCTION TO MACHINE LEARNING LAB\\MACHINE LAB WORKS\\LAB 8\\E1-cp-0059-loss0.01.h5')\n",
    "\n",
    "y_pred_scaled   = model.predict(test_X)\n",
    "y_pred          = scaler.inverse_transform(y_pred_scaled)\n",
    "y_test_unscaled = scaler.inverse_transform(test_y)\n",
    "# Mean Absolute Error (MAE)\n",
    "MAE = np.mean(abs(y_pred - y_test_unscaled)) \n",
    "print('Mean Absolute Error (MAE): ' + str(np.round(MAE, 2)))\n",
    "\n",
    "# Median Absolute Error (MedAE)\n",
    "MEDAE = np.median(abs(y_pred - y_test_unscaled))\n",
    "print('Median Absolute Error (MedAE): ' + str(np.round(MEDAE, 2)))\n",
    "\n",
    "# Mean Squared Error (MSE)\n",
    "MSE = np.square(np.subtract(y_pred, y_test_unscaled)).mean()\n",
    "print('Mean Squared Error (MSE): ' + str(np.round(MSE, 2)))\n",
    "\n",
    "# Root Mean Squarred Error (RMSE) \n",
    "RMSE = np.sqrt(np.mean(np.square(y_pred - y_test_unscaled)))\n",
    "print('Root Mean Squared Error (RMSE): ' + str(np.round(RMSE, 2)))\n",
    "\n",
    "# Mean Absolute Percentage Error (MAPE)\n",
    "MAPE = np.mean((np.abs(np.subtract(y_test_unscaled, y_pred)/ y_test_unscaled))) * 100\n",
    "print('Mean Absolute Percentage Error (MAPE): ' + str(np.round(MAPE, 2)) + ' %')\n",
    "\n",
    "# Median Absolute Percentage Error (MDAPE)\n",
    "MDAPE = np.median((np.abs(np.subtract(y_test_unscaled, y_pred)/ y_test_unscaled))) * 100\n",
    "print('Median Absolute Percentage Error (MDAPE): ' + str(np.round(MDAPE, 2)) + ' %')\n",
    "\n",
    "print('\\n\\ny_test_unscaled.shape= ',y_test_unscaled.shape)\n",
    "print('y_pred.shape= ',y_pred.shape)"
   ]
  },
  {
   "cell_type": "code",
   "execution_count": 29,
   "metadata": {},
   "outputs": [],
   "source": [
    "checkpoints = r'C:\\Users\\syedm\\Desktop\\Electrical (Communication)\\8TH SEMESTER 2025\\INTRODUCTION TO MACHINE LEARNING LAB\\MACHINE LAB WORKS\\LAB 8 E2-cp-{epoch:04d}-loss{val_loss:.2f}.h5'\n",
    "model=rC:\\Users\\syedm\\Desktop\\Electrical (Communication)\\8TH SEMESTER 2025\\INTRODUCTION TO MACHINE LEARNING LAB\\MACHINE LAB WORKS\\LAB 4\\E1-cp-0059-loss0.01.h5'\n",
    "start_epoch= 59"
   ]
  },
  {
   "cell_type": "code",
   "execution_count": 30,
   "metadata": {},
   "outputs": [
    {
     "name": "stdout",
     "output_type": "stream",
     "text": [
      "[INFO] loading C:\\Users\\musta\\Desktop\\ML lab\\lab 8\\E1-cp-0059-loss0.01.h5...\n",
      "[INFO] old learning rate: 0.0010000000474974513\n",
      "[INFO] new learning rate: 9.999999747378752e-05\n"
     ]
    }
   ],
   "source": [
    "# construct the callback to save only the *best* model to disk\n",
    "# based on the validation loss\n",
    "EpochCheckpoint1 = ModelCheckpoint(checkpoints,\n",
    "                             monitor=\"val_loss\",\n",
    "                             save_best_only=True, \n",
    "                             verbose=1)\n",
    "TrainingMonitor1=TrainingMonitor(FIG_PATH, jsonPath=JSON_PATH, startAt=start_epoch)\n",
    "\n",
    "# construct the set of callbacks\n",
    "callbacks = [EpochCheckpoint1,TrainingMonitor1]\n",
    "# if there is no specific model checkpoint supplied, then initialize\n",
    "# the network and compile the model\n",
    "if model is None:\n",
    "    print(\"[INFO] compiling model...\")\n",
    "    model = PC.build(time_steps=24, num_features=21, reg=0.0005)\n",
    "    opt = Adam(1e-3)\n",
    "    model.compile(loss= 'mae', optimizer=opt, metrics=[\"mae\", \"mape\"])\n",
    "# otherwise, load the checkpoint from disk\n",
    "else:\n",
    "    print(\"[INFO] loading {}...\".format(model))\n",
    "    model = load_model(model)\n",
    "\n",
    "    # update the learning rate\n",
    "    print(\"[INFO] old learning rate: {}\".format(K.get_value(model.optimizer.lr)))\n",
    "    K.set_value(model.optimizer.lr, 1e-4)\n",
    "    print(\"[INFO] new learning rate: {}\".format(K.get_value(model.optimizer.lr)))"
   ]
  },
  {
   "cell_type": "code",
   "execution_count": 31,
   "metadata": {},
   "outputs": [
    {
     "name": "stdout",
     "output_type": "stream",
     "text": [
      "Epoch 1/10\n",
      "2653/2653 [==============================] - ETA: 0s - loss: 0.0064 - mae: 0.0064 - mape: 418.1795\n",
      "Epoch 1: val_loss improved from inf to 0.00654, saving model to C:\\Users\\musta\\Desktop\\ML lab\\lab 8\\E2-cp-0001-loss0.01.h5\n",
      "2653/2653 [==============================] - 39s 14ms/step - loss: 0.0064 - mae: 0.0064 - mape: 418.1795 - val_loss: 0.0065 - val_mae: 0.0065 - val_mape: 3.6013\n",
      "Epoch 2/10\n",
      "2648/2653 [============================>.] - ETA: 0s - loss: 0.0064 - mae: 0.0064 - mape: 403.7992\n",
      "Epoch 2: val_loss improved from 0.00654 to 0.00642, saving model to C:\\Users\\musta\\Desktop\\ML lab\\lab 8\\E2-cp-0002-loss0.01.h5\n",
      "2653/2653 [==============================] - 20s 7ms/step - loss: 0.0064 - mae: 0.0064 - mape: 403.1091 - val_loss: 0.0064 - val_mae: 0.0064 - val_mape: 3.2198\n",
      "Epoch 3/10\n",
      "2649/2653 [============================>.] - ETA: 0s - loss: 0.0063 - mae: 0.0063 - mape: 388.9308\n",
      "Epoch 3: val_loss did not improve from 0.00642\n",
      "2653/2653 [==============================] - 20s 8ms/step - loss: 0.0063 - mae: 0.0063 - mape: 388.4110 - val_loss: 0.0065 - val_mae: 0.0065 - val_mape: 3.3969\n",
      "Epoch 4/10\n",
      "2646/2653 [============================>.] - ETA: 0s - loss: 0.0063 - mae: 0.0063 - mape: 310.9359\n",
      "Epoch 4: val_loss did not improve from 0.00642\n",
      "2653/2653 [==============================] - 21s 8ms/step - loss: 0.0063 - mae: 0.0063 - mape: 310.1714 - val_loss: 0.0065 - val_mae: 0.0065 - val_mape: 3.3041\n",
      "Epoch 5/10\n",
      "2652/2653 [============================>.] - ETA: 0s - loss: 0.0063 - mae: 0.0063 - mape: 320.8895\n",
      "Epoch 5: val_loss improved from 0.00642 to 0.00640, saving model to C:\\Users\\musta\\Desktop\\ML lab\\lab 8\\E2-cp-0005-loss0.01.h5\n",
      "2653/2653 [==============================] - 20s 8ms/step - loss: 0.0063 - mae: 0.0063 - mape: 320.8222 - val_loss: 0.0064 - val_mae: 0.0064 - val_mape: 3.1737\n",
      "Epoch 6/10\n",
      "2646/2653 [============================>.] - ETA: 0s - loss: 0.0063 - mae: 0.0063 - mape: 329.5678\n",
      "Epoch 6: val_loss did not improve from 0.00640\n",
      "2653/2653 [==============================] - 25s 10ms/step - loss: 0.0063 - mae: 0.0063 - mape: 328.7577 - val_loss: 0.0068 - val_mae: 0.0068 - val_mape: 3.3906\n",
      "Epoch 7/10\n",
      "2649/2653 [============================>.] - ETA: 0s - loss: 0.0063 - mae: 0.0063 - mape: 359.4332\n",
      "Epoch 7: val_loss improved from 0.00640 to 0.00637, saving model to C:\\Users\\musta\\Desktop\\ML lab\\lab 8\\E2-cp-0007-loss0.01.h5\n",
      "2653/2653 [==============================] - 21s 8ms/step - loss: 0.0063 - mae: 0.0063 - mape: 358.9527 - val_loss: 0.0064 - val_mae: 0.0064 - val_mape: 3.1106\n",
      "Epoch 8/10\n",
      "2652/2653 [============================>.] - ETA: 0s - loss: 0.0063 - mae: 0.0063 - mape: 294.0406\n",
      "Epoch 8: val_loss did not improve from 0.00637\n",
      "2653/2653 [==============================] - 20s 7ms/step - loss: 0.0063 - mae: 0.0063 - mape: 293.9787 - val_loss: 0.0064 - val_mae: 0.0064 - val_mape: 3.0688\n",
      "Epoch 9/10\n",
      "2652/2653 [============================>.] - ETA: 0s - loss: 0.0063 - mae: 0.0063 - mape: 280.4730\n",
      "Epoch 9: val_loss did not improve from 0.00637\n",
      "2653/2653 [==============================] - 21s 8ms/step - loss: 0.0063 - mae: 0.0063 - mape: 280.4140 - val_loss: 0.0068 - val_mae: 0.0068 - val_mape: 3.2494\n",
      "Epoch 10/10\n",
      "2652/2653 [============================>.] - ETA: 0s - loss: 0.0063 - mae: 0.0063 - mape: 337.1145\n",
      "Epoch 10: val_loss did not improve from 0.00637\n",
      "2653/2653 [==============================] - 20s 8ms/step - loss: 0.0063 - mae: 0.0063 - mape: 337.0434 - val_loss: 0.0066 - val_mae: 0.0066 - val_mape: 3.0937\n"
     ]
    }
   ],
   "source": [
    "epochs = 10\n",
    "verbose = 1 #0\n",
    "batch_size = 32\n",
    "History = model.fit(train_X,\n",
    "                        train_y,\n",
    "                        batch_size=batch_size,   \n",
    "                        epochs = epochs, \n",
    "                        validation_data = (validation_X,validation_y),\n",
    "                        callbacks=callbacks,\n",
    "                        verbose = verbose)"
   ]
  },
  {
   "cell_type": "code",
   "execution_count": 33,
   "metadata": {},
   "outputs": [
    {
     "name": "stdout",
     "output_type": "stream",
     "text": [
      "379/379 [==============================] - 8s 18ms/step\n",
      "Mean Absolute Error (MAE): 101.27\n",
      "Median Absolute Error (MedAE): 79.49\n",
      "Mean Squared Error (MSE): 18059.37\n",
      "Root Mean Squared Error (RMSE): 134.39\n",
      "Mean Absolute Percentage Error (MAPE): 0.69 %\n",
      "Median Absolute Percentage Error (MDAPE): 0.55 %\n",
      "\n",
      "\n",
      "y_test_unscaled.shape=  (12105, 1)\n",
      "y_pred.shape=  (12105, 1)\n"
     ]
    }
   ],
   "source": [
    "\n",
    "model = load_model(r'C:\\Users\\syedm\\Desktop\\Electrical (Communication)\\8TH SEMESTER 2025\\INTRODUCTION TO MACHINE LEARNING LAB\\MACHINE LAB WORKS\\LAB 8\\E2-cp-0007-loss0.01.h5')\n",
    "\n",
    "y_pred_scaled   = model.predict(test_X)\n",
    "y_pred          = scaler.inverse_transform(y_pred_scaled)\n",
    "y_test_unscaled = scaler.inverse_transform(test_y)\n",
    "# Mean Absolute Error (MAE)\n",
    "MAE = np.mean(abs(y_pred - y_test_unscaled)) \n",
    "print('Mean Absolute Error (MAE): ' + str(np.round(MAE, 2)))\n",
    "\n",
    "# Median Absolute Error (MedAE)\n",
    "MEDAE = np.median(abs(y_pred - y_test_unscaled))\n",
    "print('Median Absolute Error (MedAE): ' + str(np.round(MEDAE, 2)))\n",
    "\n",
    "# Mean Squared Error (MSE)\n",
    "MSE = np.square(np.subtract(y_pred, y_test_unscaled)).mean()\n",
    "print('Mean Squared Error (MSE): ' + str(np.round(MSE, 2)))\n",
    "\n",
    "# Root Mean Squarred Error (RMSE) \n",
    "RMSE = np.sqrt(np.mean(np.square(y_pred - y_test_unscaled)))\n",
    "print('Root Mean Squared Error (RMSE): ' + str(np.round(RMSE, 2)))\n",
    "\n",
    "# Mean Absolute Percentage Error (MAPE)\n",
    "MAPE = np.mean((np.abs(np.subtract(y_test_unscaled, y_pred)/ y_test_unscaled))) * 100\n",
    "print('Mean Absolute Percentage Error (MAPE): ' + str(np.round(MAPE, 2)) + ' %')\n",
    "\n",
    "# Median Absolute Percentage Error (MDAPE)\n",
    "MDAPE = np.median((np.abs(np.subtract(y_test_unscaled, y_pred)/ y_test_unscaled))) * 100\n",
    "print('Median Absolute Percentage Error (MDAPE): ' + str(np.round(MDAPE, 2)) + ' %')\n",
    "\n",
    "print('\\n\\ny_test_unscaled.shape= ',y_test_unscaled.shape)\n",
    "print('y_pred.shape= ',y_pred.shape)"
   ]
  },
  {
   "cell_type": "markdown",
   "metadata": {},
   "source": [
    "# lab report "
   ]
  },
  {
   "cell_type": "markdown",
   "metadata": {},
   "source": [
    "## Lab 1"
   ]
  },
  {
   "cell_type": "code",
   "execution_count": null,
   "metadata": {},
   "outputs": [],
   "source": []
  }
 ],
 "metadata": {
  "kernelspec": {
   "display_name": "Python 3 (ipykernel)",
   "language": "python",
   "name": "python3"
  },
  "language_info": {
   "codemirror_mode": {
    "name": "ipython",
    "version": 3
   },
   "file_extension": ".py",
   "mimetype": "text/x-python",
   "name": "python",
   "nbconvert_exporter": "python",
   "pygments_lexer": "ipython3",
   "version": "3.12.6"
  }
 },
 "nbformat": 4,
 "nbformat_minor": 4
}
