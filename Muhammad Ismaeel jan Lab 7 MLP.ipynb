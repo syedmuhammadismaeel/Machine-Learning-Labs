{
 "cells": [
  {
   "cell_type": "code",
   "execution_count": null,
   "metadata": {},
   "outputs": [],
   "source": []
  },
  {
   "cell_type": "code",
   "execution_count": 1,
   "metadata": {},
   "outputs": [],
   "source": [
    "import sys\n",
    "sys.path.append(r'C:\\Users\\syedm\\Desktop\\Electrical (Communication)\\8TH SEMESTER 2025\\INTRODUCTION TO MACHINE LEARNING LAB\\MACHINE LAB WORKS\\LAB 7\\LAB 4\\timeseires')"
   ]
  },
  {
   "cell_type": "code",
   "execution_count": 2,
   "metadata": {},
   "outputs": [],
   "source": [
    "from sklearn.metrics import mean_squared_error, mean_absolute_error, explained_variance_score, r2_score\n",
    "from timeseires.utils.to_split import to_split\n",
    "from timeseires.utils.multivariate_multi_step import multivariate_multi_step\n",
    "from timeseires.utils.multivariate_single_step import multivariate_single_step\n",
    "from timeseires.utils.univariate_multi_step import univariate_multi_step\n",
    "from timeseires.utils.univariate_single_step import univariate_single_step\n",
    "from timeseires.utils.CosineAnnealingLRS import CosineAnnealingLRS\n",
    "from timeseires.callbacks.EpochCheckpoint import EpochCheckpoint\n",
    "from tensorflow.keras.callbacks import ModelCheckpoint\n",
    "from timeseires.callbacks.TrainingMonitor import TrainingMonitor\n",
    "from tensorflow.keras.optimizers import Adam\n",
    "from tensorflow.keras.optimizers import SGD\n",
    "from tensorflow.keras.models import load_model\n",
    "from tensorflow.keras.layers import LSTM, Bidirectional, Add\n",
    "from tensorflow.keras.layers import BatchNormalization\n",
    "from tensorflow.keras.layers import Conv1D,TimeDistributed\n",
    "from tensorflow.keras.layers import Dense, Dropout, Activation, Flatten,MaxPooling1D,Concatenate,AveragePooling1D, GlobalMaxPooling1D, Input\n",
    "from tensorflow.keras.models import Sequential,Model\n",
    "import pandas as pd\n",
    "import time, pickle\n",
    "import numpy as np\n",
    "import tensorflow.keras.backend as K\n",
    "import tensorflow\n",
    "from tensorflow.keras.layers import Input, Reshape, Lambda\n",
    "from tensorflow.keras.layers import Layer, Flatten, LeakyReLU, concatenate, Dense\n",
    "from tensorflow.keras.regularizers import l2\n",
    "import glob\n",
    "import h5py\n",
    "import matplotlib.pyplot as plt\n",
    "from keras.callbacks import Callback"
   ]
  },
  {
   "cell_type": "code",
   "execution_count": 3,
   "metadata": {},
   "outputs": [],
   "source": [
    "#lookback = 24\n",
    "model = None\n",
    "start_epoch = 0\n",
    "time_steps=24\n",
    "num_features=21"
   ]
  },
  {
   "cell_type": "code",
   "execution_count": 4,
   "metadata": {},
   "outputs": [],
   "source": [
    "def MLP():\n",
    "    model = Sequential()\n",
    "    model.add(Flatten(input_shape=(time_steps , num_features)))\n",
    "    model.add(Dense(32, activation='relu'))\n",
    "    model.add(Dense(1))\n",
    "    return model"
   ]
  },
  {
   "cell_type": "code",
   "execution_count": 5,
   "metadata": {
    "scrolled": true
   },
   "outputs": [
    {
     "name": "stdout",
     "output_type": "stream",
     "text": [
      "Model: \"sequential\"\n",
      "_________________________________________________________________\n",
      " Layer (type)                Output Shape              Param #   \n",
      "=================================================================\n",
      " flatten (Flatten)           (None, 504)               0         \n",
      "                                                                 \n",
      " dense (Dense)               (None, 32)                16160     \n",
      "                                                                 \n",
      " dense_1 (Dense)             (None, 1)                 33        \n",
      "                                                                 \n",
      "=================================================================\n",
      "Total params: 16,193\n",
      "Trainable params: 16,193\n",
      "Non-trainable params: 0\n",
      "_________________________________________________________________\n"
     ]
    }
   ],
   "source": [
    "model1 = MLP()\n",
    "model1.summary()"
   ]
  },
  {
   "cell_type": "code",
   "execution_count": 6,
   "metadata": {},
   "outputs": [
    {
     "name": "stdout",
     "output_type": "stream",
     "text": [
      "You must install pydot (`pip install pydot`) and install graphviz (see instructions at https://graphviz.gitlab.io/download/) for plot_model to work.\n"
     ]
    }
   ],
   "source": [
    "tensorflow.keras.utils.plot_model(model1 )"
   ]
  },
  {
   "cell_type": "code",
   "execution_count": 8,
   "metadata": {},
   "outputs": [],
   "source": [
    "checkpoints = r'C:\\Users\\syedm\\Desktop\\Electrical (Communication)\\8TH SEMESTER 2025\\INTRODUCTION TO MACHINE LEARNING LAB\\MACHINE LAB WORKS\\LAB 7\\\\E1-cp-{epoch:04d}-loss{val_loss:.2f}.h5'\n",
    "OUTPUT_PATH = r'C:\\Users\\syedm\\Desktop\\Electrical (Communication)\\8TH SEMESTER 2025\\INTRODUCTION TO MACHINE LEARNING LAB\\MACHINE LAB WORKS\\LAB 7'\n",
    "#FIG_PATH = os.path.sep.join([OUTPUT_PATH,\"\\history.png\"])\n",
    "#JSON_PATH = os.path.sep.join([OUTPUT_PATH,\"\\history.json\"])"
   ]
  },
  {
   "cell_type": "code",
   "execution_count": 9,
   "metadata": {},
   "outputs": [],
   "source": [
    "# construct the callback to save only the *best* model to disk\n",
    "# based on the validation loss\n",
    "EpochCheckpoint1 = ModelCheckpoint(checkpoints,\n",
    "                             monitor=\"val_loss\",\n",
    "                             save_best_only=True, \n",
    "                             verbose=1)\n",
    "#TrainingMonitor1=TrainingMonitor(FIG_PATH, jsonPath=JSON_PATH, startAt=start_epoch)\n",
    "\n",
    "# construct the set of callbacks\n",
    "callbacks = [EpochCheckpoint1]"
   ]
  },
  {
   "cell_type": "code",
   "execution_count": 10,
   "metadata": {},
   "outputs": [
    {
     "name": "stdout",
     "output_type": "stream",
     "text": [
      "[INFO] compiling model...\n"
     ]
    }
   ],
   "source": [
    "# if there is no specific model checkpoint supplied, then initialize\n",
    "# the network and compile the model\n",
    "if model is None:\n",
    "    print(\"[INFO] compiling model...\")\n",
    "    model =MLP()\n",
    "    opt = Adam(1e-3)\n",
    "    model.compile(loss= 'mae', optimizer=opt, metrics=[\"mae\", \"mape\"])\n",
    "# otherwise, load the checkpoint from disk\n",
    "else:\n",
    "    print(\"[INFO] loading {}...\".format(model))\n",
    "    model = load_model(model)\n",
    "\n",
    "    # update the learning rate\n",
    "    print(\"[INFO] old learning rate: {}\".format(K.get_value(model.optimizer.lr)))\n",
    "    K.set_value(model.optimizer.lr, 1e-4)\n",
    "    print(\"[INFO] new learning rate: {}\".format(K.get_value(model.optimizer.lr)))"
   ]
  },
  {
   "cell_type": "code",
   "execution_count": 13,
   "metadata": {},
   "outputs": [
    {
     "data": {
      "text/plain": [
       "((84907, 21), (24259, 21), (12130, 21))"
      ]
     },
     "execution_count": 13,
     "metadata": {},
     "output_type": "execute_result"
    }
   ],
   "source": [
    "import os\n",
    "path_dataset ='C:\\Users\\syedm\\Desktop\\Electrical (Communication)\\8TH SEMESTER 2025\\INTRODUCTION TO MACHINE LEARNING LAB\\MACHINE LAB WORKS\\LAB 7\\\\AEP_hourly_2'\n",
    "path_tr = os.path.join(path_dataset, 'AEP_train.csv')\n",
    "df_tr = pd.read_csv(path_tr)\n",
    "train_set = df_tr.iloc[:].values\n",
    "path_v = os.path.join(path_dataset, 'AEP_validation.csv')\n",
    "df_v = pd.read_csv(path_v)\n",
    "validation_set = df_v.iloc[:].values \n",
    "path_te = os.path.join(path_dataset, 'AEP_test.csv')\n",
    "df_te = pd.read_csv(path_te)\n",
    "test_set = df_te.iloc[:].values \n",
    "\n",
    "path_scaler = os.path.join(path_dataset, 'AEP_Scaler.pkl')\n",
    "scaler         = pickle.load(open(path_scaler, 'rb'))\n",
    "\n",
    "train_set.shape, validation_set.shape, test_set.shape"
   ]
  },
  {
   "cell_type": "code",
   "execution_count": 14,
   "metadata": {},
   "outputs": [
    {
     "data": {
      "text/html": [
       "<div>\n",
       "<style scoped>\n",
       "    .dataframe tbody tr th:only-of-type {\n",
       "        vertical-align: middle;\n",
       "    }\n",
       "\n",
       "    .dataframe tbody tr th {\n",
       "        vertical-align: top;\n",
       "    }\n",
       "\n",
       "    .dataframe thead th {\n",
       "        text-align: right;\n",
       "    }\n",
       "</style>\n",
       "<table border=\"1\" class=\"dataframe\">\n",
       "  <thead>\n",
       "    <tr style=\"text-align: right;\">\n",
       "      <th></th>\n",
       "      <th>aep</th>\n",
       "      <th>Is_holiday1</th>\n",
       "      <th>Is_holiday2</th>\n",
       "      <th>Is_Weekend1</th>\n",
       "      <th>Is_Weekend2</th>\n",
       "      <th>sin_month</th>\n",
       "      <th>cos_month</th>\n",
       "      <th>sin_week</th>\n",
       "      <th>cos_week</th>\n",
       "      <th>sin_hour</th>\n",
       "      <th>...</th>\n",
       "      <th>sin_wintert</th>\n",
       "      <th>cos_wintert</th>\n",
       "      <th>sin_springt</th>\n",
       "      <th>cos_springt</th>\n",
       "      <th>sin_summert</th>\n",
       "      <th>cos_summert</th>\n",
       "      <th>sin_fallt</th>\n",
       "      <th>cos_fallt</th>\n",
       "      <th>sin_year_dayt</th>\n",
       "      <th>cos_year_dayt</th>\n",
       "    </tr>\n",
       "  </thead>\n",
       "  <tbody>\n",
       "    <tr>\n",
       "      <th>0</th>\n",
       "      <td>0.518532</td>\n",
       "      <td>1.0</td>\n",
       "      <td>0.0</td>\n",
       "      <td>1.0</td>\n",
       "      <td>0.0</td>\n",
       "      <td>1.0</td>\n",
       "      <td>6.123234e-17</td>\n",
       "      <td>0.866025</td>\n",
       "      <td>-0.5</td>\n",
       "      <td>-0.707107</td>\n",
       "      <td>...</td>\n",
       "      <td>0.0</td>\n",
       "      <td>1.0</td>\n",
       "      <td>1.0</td>\n",
       "      <td>6.123234e-17</td>\n",
       "      <td>0.0</td>\n",
       "      <td>1.0</td>\n",
       "      <td>0.0</td>\n",
       "      <td>1.0</td>\n",
       "      <td>0.956235</td>\n",
       "      <td>0.2926</td>\n",
       "    </tr>\n",
       "  </tbody>\n",
       "</table>\n",
       "<p>1 rows × 21 columns</p>\n",
       "</div>"
      ],
      "text/plain": [
       "        aep  Is_holiday1  Is_holiday2  Is_Weekend1  Is_Weekend2  sin_month  \\\n",
       "0  0.518532          1.0          0.0          1.0          0.0        1.0   \n",
       "\n",
       "      cos_month  sin_week  cos_week  sin_hour  ...  sin_wintert  cos_wintert  \\\n",
       "0  6.123234e-17  0.866025      -0.5 -0.707107  ...          0.0          1.0   \n",
       "\n",
       "   sin_springt   cos_springt  sin_summert  cos_summert  sin_fallt  cos_fallt  \\\n",
       "0          1.0  6.123234e-17          0.0          1.0        0.0        1.0   \n",
       "\n",
       "   sin_year_dayt  cos_year_dayt  \n",
       "0       0.956235         0.2926  \n",
       "\n",
       "[1 rows x 21 columns]"
      ]
     },
     "execution_count": 14,
     "metadata": {},
     "output_type": "execute_result"
    }
   ],
   "source": [
    "df_te.head(1)"
   ]
  },
  {
   "cell_type": "code",
   "execution_count": 15,
   "metadata": {},
   "outputs": [
    {
     "data": {
      "text/plain": [
       "array([ 5.18532385e-01,  1.00000000e+00,  0.00000000e+00,  1.00000000e+00,\n",
       "        0.00000000e+00,  1.00000000e+00,  6.12323400e-17,  8.66025404e-01,\n",
       "       -5.00000000e-01, -7.07106781e-01, -7.07106781e-01,  0.00000000e+00,\n",
       "        1.00000000e+00,  1.00000000e+00,  6.12323400e-17,  0.00000000e+00,\n",
       "        1.00000000e+00,  0.00000000e+00,  1.00000000e+00,  9.56234827e-01,\n",
       "        2.92600336e-01])"
      ]
     },
     "execution_count": 15,
     "metadata": {},
     "output_type": "execute_result"
    }
   ],
   "source": [
    "test_set[0]"
   ]
  },
  {
   "cell_type": "code",
   "execution_count": 16,
   "metadata": {},
   "outputs": [],
   "source": [
    "time_steps=2\n",
    "num_features=21"
   ]
  },
  {
   "cell_type": "code",
   "execution_count": 18,
   "metadata": {},
   "outputs": [],
   "source": [
    "train_X , train_y = univariate_multi_step(train_set, time_steps, target_col=0,target_len=0)"
   ]
  },
  {
   "cell_type": "code",
   "execution_count": 19,
   "metadata": {},
   "outputs": [
    {
     "data": {
      "text/plain": [
       "array([[ 1.69100212e-01,  1.00000000e+00,  0.00000000e+00,\n",
       "         1.00000000e+00,  0.00000000e+00, -8.66025404e-01,\n",
       "         5.00000000e-01, -8.66025404e-01, -5.00000000e-01,\n",
       "         2.58819045e-01,  9.65925826e-01,  0.00000000e+00,\n",
       "         1.00000000e+00,  0.00000000e+00,  1.00000000e+00,\n",
       "         0.00000000e+00,  1.00000000e+00,  1.00000000e+00,\n",
       "         6.12323400e-17, -9.99768502e-01,  2.15160974e-02],\n",
       "       [ 1.41395233e-01,  1.00000000e+00,  0.00000000e+00,\n",
       "         1.00000000e+00,  0.00000000e+00, -8.66025404e-01,\n",
       "         5.00000000e-01, -8.66025404e-01, -5.00000000e-01,\n",
       "         5.00000000e-01,  8.66025404e-01,  0.00000000e+00,\n",
       "         1.00000000e+00,  0.00000000e+00,  1.00000000e+00,\n",
       "         0.00000000e+00,  1.00000000e+00,  1.00000000e+00,\n",
       "         6.12323400e-17, -9.99768502e-01,  2.15160974e-02]])"
      ]
     },
     "execution_count": 19,
     "metadata": {},
     "output_type": "execute_result"
    }
   ],
   "source": [
    "train_X[0]"
   ]
  },
  {
   "cell_type": "code",
   "execution_count": 20,
   "metadata": {},
   "outputs": [
    {
     "data": {
      "text/plain": [
       "array([], dtype=float64)"
      ]
     },
     "execution_count": 20,
     "metadata": {},
     "output_type": "execute_result"
    }
   ],
   "source": [
    "train_y[0]"
   ]
  },
  {
   "cell_type": "code",
   "execution_count": 21,
   "metadata": {},
   "outputs": [],
   "source": [
    "time_steps =24\n",
    "train_X , train_y = univariate_multi_step(train_set, time_steps, target_col=1,target_len=2)"
   ]
  },
  {
   "cell_type": "code",
   "execution_count": 22,
   "metadata": {},
   "outputs": [
    {
     "data": {
      "text/plain": [
       "array([[ 1.69100212e-01,  1.00000000e+00,  0.00000000e+00,\n",
       "         1.00000000e+00,  0.00000000e+00, -8.66025404e-01,\n",
       "         5.00000000e-01, -8.66025404e-01, -5.00000000e-01,\n",
       "         2.58819045e-01,  9.65925826e-01,  0.00000000e+00,\n",
       "         1.00000000e+00,  0.00000000e+00,  1.00000000e+00,\n",
       "         0.00000000e+00,  1.00000000e+00,  1.00000000e+00,\n",
       "         6.12323400e-17, -9.99768502e-01,  2.15160974e-02],\n",
       "       [ 1.41395233e-01,  1.00000000e+00,  0.00000000e+00,\n",
       "         1.00000000e+00,  0.00000000e+00, -8.66025404e-01,\n",
       "         5.00000000e-01, -8.66025404e-01, -5.00000000e-01,\n",
       "         5.00000000e-01,  8.66025404e-01,  0.00000000e+00,\n",
       "         1.00000000e+00,  0.00000000e+00,  1.00000000e+00,\n",
       "         0.00000000e+00,  1.00000000e+00,  1.00000000e+00,\n",
       "         6.12323400e-17, -9.99768502e-01,  2.15160974e-02],\n",
       "       [ 1.26232372e-01,  1.00000000e+00,  0.00000000e+00,\n",
       "         1.00000000e+00,  0.00000000e+00, -8.66025404e-01,\n",
       "         5.00000000e-01, -8.66025404e-01, -5.00000000e-01,\n",
       "         7.07106781e-01,  7.07106781e-01,  0.00000000e+00,\n",
       "         1.00000000e+00,  0.00000000e+00,  1.00000000e+00,\n",
       "         0.00000000e+00,  1.00000000e+00,  1.00000000e+00,\n",
       "         6.12323400e-17, -9.99768502e-01,  2.15160974e-02],\n",
       "       [ 1.20304505e-01,  1.00000000e+00,  0.00000000e+00,\n",
       "         1.00000000e+00,  0.00000000e+00, -8.66025404e-01,\n",
       "         5.00000000e-01, -8.66025404e-01, -5.00000000e-01,\n",
       "         8.66025404e-01,  5.00000000e-01,  0.00000000e+00,\n",
       "         1.00000000e+00,  0.00000000e+00,  1.00000000e+00,\n",
       "         0.00000000e+00,  1.00000000e+00,  1.00000000e+00,\n",
       "         6.12323400e-17, -9.99768502e-01,  2.15160974e-02],\n",
       "       [ 1.25545988e-01,  1.00000000e+00,  0.00000000e+00,\n",
       "         1.00000000e+00,  0.00000000e+00, -8.66025404e-01,\n",
       "         5.00000000e-01, -8.66025404e-01, -5.00000000e-01,\n",
       "         9.65925826e-01,  2.58819045e-01,  0.00000000e+00,\n",
       "         1.00000000e+00,  0.00000000e+00,  1.00000000e+00,\n",
       "         0.00000000e+00,  1.00000000e+00,  1.00000000e+00,\n",
       "         6.12323400e-17, -9.99768502e-01,  2.15160974e-02],\n",
       "       [ 1.62922751e-01,  1.00000000e+00,  0.00000000e+00,\n",
       "         1.00000000e+00,  0.00000000e+00, -8.66025404e-01,\n",
       "         5.00000000e-01, -8.66025404e-01, -5.00000000e-01,\n",
       "         1.00000000e+00,  6.12323400e-17,  0.00000000e+00,\n",
       "         1.00000000e+00,  0.00000000e+00,  1.00000000e+00,\n",
       "         0.00000000e+00,  1.00000000e+00,  1.00000000e+00,\n",
       "         6.12323400e-17, -9.99768502e-01,  2.15160974e-02],\n",
       "       [ 2.51029577e-01,  1.00000000e+00,  0.00000000e+00,\n",
       "         1.00000000e+00,  0.00000000e+00, -8.66025404e-01,\n",
       "         5.00000000e-01, -8.66025404e-01, -5.00000000e-01,\n",
       "         9.65925826e-01, -2.58819045e-01,  0.00000000e+00,\n",
       "         1.00000000e+00,  0.00000000e+00,  1.00000000e+00,\n",
       "         0.00000000e+00,  1.00000000e+00,  1.00000000e+00,\n",
       "         6.12323400e-17, -9.99768502e-01,  2.15160974e-02],\n",
       "       [ 3.08810683e-01,  1.00000000e+00,  0.00000000e+00,\n",
       "         1.00000000e+00,  0.00000000e+00, -8.66025404e-01,\n",
       "         5.00000000e-01, -8.66025404e-01, -5.00000000e-01,\n",
       "         8.66025404e-01, -5.00000000e-01,  0.00000000e+00,\n",
       "         1.00000000e+00,  0.00000000e+00,  1.00000000e+00,\n",
       "         0.00000000e+00,  1.00000000e+00,  1.00000000e+00,\n",
       "         6.12323400e-17, -9.99768502e-01,  2.15160974e-02],\n",
       "       [ 3.26594284e-01,  1.00000000e+00,  0.00000000e+00,\n",
       "         1.00000000e+00,  0.00000000e+00, -8.66025404e-01,\n",
       "         5.00000000e-01, -8.66025404e-01, -5.00000000e-01,\n",
       "         7.07106781e-01, -7.07106781e-01,  0.00000000e+00,\n",
       "         1.00000000e+00,  0.00000000e+00,  1.00000000e+00,\n",
       "         0.00000000e+00,  1.00000000e+00,  1.00000000e+00,\n",
       "         6.12323400e-17, -9.99768502e-01,  2.15160974e-02],\n",
       "       [ 3.40009984e-01,  1.00000000e+00,  0.00000000e+00,\n",
       "         1.00000000e+00,  0.00000000e+00, -8.66025404e-01,\n",
       "         5.00000000e-01, -8.66025404e-01, -5.00000000e-01,\n",
       "         5.00000000e-01, -8.66025404e-01,  0.00000000e+00,\n",
       "         1.00000000e+00,  0.00000000e+00,  1.00000000e+00,\n",
       "         0.00000000e+00,  1.00000000e+00,  1.00000000e+00,\n",
       "         6.12323400e-17, -9.99768502e-01,  2.15160974e-02],\n",
       "       [ 3.47747410e-01,  1.00000000e+00,  0.00000000e+00,\n",
       "         1.00000000e+00,  0.00000000e+00, -8.66025404e-01,\n",
       "         5.00000000e-01, -8.66025404e-01, -5.00000000e-01,\n",
       "         2.58819045e-01, -9.65925826e-01,  0.00000000e+00,\n",
       "         1.00000000e+00,  0.00000000e+00,  1.00000000e+00,\n",
       "         0.00000000e+00,  1.00000000e+00,  1.00000000e+00,\n",
       "         6.12323400e-17, -9.99768502e-01,  2.15160974e-02],\n",
       "       [ 3.56046425e-01,  1.00000000e+00,  0.00000000e+00,\n",
       "         1.00000000e+00,  0.00000000e+00, -8.66025404e-01,\n",
       "         5.00000000e-01, -8.66025404e-01, -5.00000000e-01,\n",
       "         1.22464680e-16, -1.00000000e+00,  0.00000000e+00,\n",
       "         1.00000000e+00,  0.00000000e+00,  1.00000000e+00,\n",
       "         0.00000000e+00,  1.00000000e+00,  1.00000000e+00,\n",
       "         6.12323400e-17, -9.99768502e-01,  2.15160974e-02],\n",
       "       [ 3.57855984e-01,  1.00000000e+00,  0.00000000e+00,\n",
       "         1.00000000e+00,  0.00000000e+00, -8.66025404e-01,\n",
       "         5.00000000e-01, -8.66025404e-01, -5.00000000e-01,\n",
       "        -2.58819045e-01, -9.65925826e-01,  0.00000000e+00,\n",
       "         1.00000000e+00,  0.00000000e+00,  1.00000000e+00,\n",
       "         0.00000000e+00,  1.00000000e+00,  1.00000000e+00,\n",
       "         6.12323400e-17, -9.99768502e-01,  2.15160974e-02],\n",
       "       [ 3.73518033e-01,  1.00000000e+00,  0.00000000e+00,\n",
       "         1.00000000e+00,  0.00000000e+00, -8.66025404e-01,\n",
       "         5.00000000e-01, -8.66025404e-01, -5.00000000e-01,\n",
       "        -5.00000000e-01, -8.66025404e-01,  0.00000000e+00,\n",
       "         1.00000000e+00,  0.00000000e+00,  1.00000000e+00,\n",
       "         0.00000000e+00,  1.00000000e+00,  1.00000000e+00,\n",
       "         6.12323400e-17, -9.99768502e-01,  2.15160974e-02],\n",
       "       [ 3.78759516e-01,  1.00000000e+00,  0.00000000e+00,\n",
       "         1.00000000e+00,  0.00000000e+00, -8.66025404e-01,\n",
       "         5.00000000e-01, -8.66025404e-01, -5.00000000e-01,\n",
       "        -7.07106781e-01, -7.07106781e-01,  0.00000000e+00,\n",
       "         1.00000000e+00,  0.00000000e+00,  1.00000000e+00,\n",
       "         0.00000000e+00,  1.00000000e+00,  1.00000000e+00,\n",
       "         6.12323400e-17, -9.99768502e-01,  2.15160974e-02],\n",
       "       [ 3.78759516e-01,  1.00000000e+00,  0.00000000e+00,\n",
       "         1.00000000e+00,  0.00000000e+00, -8.66025404e-01,\n",
       "         5.00000000e-01, -8.66025404e-01, -5.00000000e-01,\n",
       "        -8.66025404e-01, -5.00000000e-01,  0.00000000e+00,\n",
       "         1.00000000e+00,  0.00000000e+00,  1.00000000e+00,\n",
       "         0.00000000e+00,  1.00000000e+00,  1.00000000e+00,\n",
       "         6.12323400e-17, -9.99768502e-01,  2.15160974e-02],\n",
       "       [ 3.72831649e-01,  1.00000000e+00,  0.00000000e+00,\n",
       "         1.00000000e+00,  0.00000000e+00, -8.66025404e-01,\n",
       "         5.00000000e-01, -8.66025404e-01, -5.00000000e-01,\n",
       "        -9.65925826e-01, -2.58819045e-01,  0.00000000e+00,\n",
       "         1.00000000e+00,  0.00000000e+00,  1.00000000e+00,\n",
       "         0.00000000e+00,  1.00000000e+00,  1.00000000e+00,\n",
       "         6.12323400e-17, -9.99768502e-01,  2.15160974e-02],\n",
       "       [ 3.54673655e-01,  1.00000000e+00,  0.00000000e+00,\n",
       "         1.00000000e+00,  0.00000000e+00, -8.66025404e-01,\n",
       "         5.00000000e-01, -8.66025404e-01, -5.00000000e-01,\n",
       "        -1.00000000e+00, -1.83697020e-16,  0.00000000e+00,\n",
       "         1.00000000e+00,  0.00000000e+00,  1.00000000e+00,\n",
       "         0.00000000e+00,  1.00000000e+00,  1.00000000e+00,\n",
       "         6.12323400e-17, -9.99768502e-01,  2.15160974e-02],\n",
       "       [ 3.34768501e-01,  1.00000000e+00,  0.00000000e+00,\n",
       "         1.00000000e+00,  0.00000000e+00, -8.66025404e-01,\n",
       "         5.00000000e-01, -8.66025404e-01, -5.00000000e-01,\n",
       "        -9.65925826e-01,  2.58819045e-01,  0.00000000e+00,\n",
       "         1.00000000e+00,  0.00000000e+00,  1.00000000e+00,\n",
       "         0.00000000e+00,  1.00000000e+00,  1.00000000e+00,\n",
       "         6.12323400e-17, -9.99768502e-01,  2.15160974e-02],\n",
       "       [ 3.45813054e-01,  1.00000000e+00,  0.00000000e+00,\n",
       "         1.00000000e+00,  0.00000000e+00, -8.66025404e-01,\n",
       "         5.00000000e-01, -8.66025404e-01, -5.00000000e-01,\n",
       "        -8.66025404e-01,  5.00000000e-01,  0.00000000e+00,\n",
       "         1.00000000e+00,  0.00000000e+00,  1.00000000e+00,\n",
       "         0.00000000e+00,  1.00000000e+00,  1.00000000e+00,\n",
       "         6.12323400e-17, -9.99768502e-01,  2.15160974e-02],\n",
       "       [ 3.54424061e-01,  1.00000000e+00,  0.00000000e+00,\n",
       "         1.00000000e+00,  0.00000000e+00, -8.66025404e-01,\n",
       "         5.00000000e-01, -8.66025404e-01, -5.00000000e-01,\n",
       "        -7.07106781e-01,  7.07106781e-01,  0.00000000e+00,\n",
       "         1.00000000e+00,  0.00000000e+00,  1.00000000e+00,\n",
       "         0.00000000e+00,  1.00000000e+00,  1.00000000e+00,\n",
       "         6.12323400e-17, -9.99768502e-01,  2.15160974e-02],\n",
       "       [ 3.22475977e-01,  1.00000000e+00,  0.00000000e+00,\n",
       "         1.00000000e+00,  0.00000000e+00, -8.66025404e-01,\n",
       "         5.00000000e-01, -8.66025404e-01, -5.00000000e-01,\n",
       "        -5.00000000e-01,  8.66025404e-01,  0.00000000e+00,\n",
       "         1.00000000e+00,  0.00000000e+00,  1.00000000e+00,\n",
       "         0.00000000e+00,  1.00000000e+00,  1.00000000e+00,\n",
       "         6.12323400e-17, -9.99768502e-01,  2.15160974e-02],\n",
       "       [ 2.74429053e-01,  1.00000000e+00,  0.00000000e+00,\n",
       "         1.00000000e+00,  0.00000000e+00, -8.66025404e-01,\n",
       "         5.00000000e-01, -8.66025404e-01, -5.00000000e-01,\n",
       "        -2.58819045e-01,  9.65925826e-01,  0.00000000e+00,\n",
       "         1.00000000e+00,  0.00000000e+00,  1.00000000e+00,\n",
       "         0.00000000e+00,  1.00000000e+00,  1.00000000e+00,\n",
       "         6.12323400e-17, -9.99768502e-01,  2.15160974e-02],\n",
       "       [ 2.17022339e-01,  1.00000000e+00,  0.00000000e+00,\n",
       "         0.00000000e+00,  1.00000000e+00, -8.66025404e-01,\n",
       "         5.00000000e-01, -8.66025404e-01,  5.00000000e-01,\n",
       "         0.00000000e+00,  1.00000000e+00,  0.00000000e+00,\n",
       "         1.00000000e+00,  0.00000000e+00,  1.00000000e+00,\n",
       "         0.00000000e+00,  1.00000000e+00,  1.00000000e+00,\n",
       "         6.12323400e-17, -9.99250011e-01,  3.87222809e-02]])"
      ]
     },
     "execution_count": 22,
     "metadata": {},
     "output_type": "execute_result"
    }
   ],
   "source": [
    "train_X[0]"
   ]
  },
  {
   "cell_type": "code",
   "execution_count": 23,
   "metadata": {},
   "outputs": [
    {
     "data": {
      "text/plain": [
       "array([1., 1.])"
      ]
     },
     "execution_count": 23,
     "metadata": {},
     "output_type": "execute_result"
    }
   ],
   "source": [
    "train_y[0]"
   ]
  },
  {
   "cell_type": "code",
   "execution_count": 24,
   "metadata": {},
   "outputs": [
    {
     "name": "stdout",
     "output_type": "stream",
     "text": [
      "Time Consumed 3.1332385540008545 sec\n"
     ]
    }
   ],
   "source": [
    "start = time.time()\n",
    "train_X , train_y = univariate_multi_step(train_set, time_steps, target_col=0,target_len=1)\n",
    "validation_X, validation_y = univariate_multi_step(validation_set, time_steps, target_col=0,target_len=1)\n",
    "test_X, test_y = univariate_multi_step(test_set, time_steps, target_col=0,target_len=1)\n",
    "print('Time Consumed', time.time()-start, \"sec\")"
   ]
  },
  {
   "cell_type": "code",
   "execution_count": 25,
   "metadata": {},
   "outputs": [
    {
     "name": "stdout",
     "output_type": "stream",
     "text": [
      "Epoch 1/60\n",
      "2653/2653 [==============================] - ETA: 0s - loss: 0.0497 - mae: 0.0497 - mape: 828.8320\n",
      "Epoch 1: val_loss improved from inf to 0.02828, saving model to C:\\Users\\musta\\Desktop\\ML lab\\lab 7\\E1-cp-0001-loss0.03.h5\n",
      "2653/2653 [==============================] - 25s 5ms/step - loss: 0.0497 - mae: 0.0497 - mape: 828.8320 - val_loss: 0.0283 - val_mae: 0.0283 - val_mape: 11.7744\n",
      "Epoch 2/60\n",
      "2638/2653 [============================>.] - ETA: 0s - loss: 0.0260 - mae: 0.0260 - mape: 519.4791\n",
      "Epoch 2: val_loss improved from 0.02828 to 0.02492, saving model to C:\\Users\\musta\\Desktop\\ML lab\\lab 7\\E1-cp-0002-loss0.02.h5\n",
      "2653/2653 [==============================] - 10s 4ms/step - loss: 0.0260 - mae: 0.0260 - mape: 516.6696 - val_loss: 0.0249 - val_mae: 0.0249 - val_mape: 11.3333\n",
      "Epoch 3/60\n",
      "2651/2653 [============================>.] - ETA: 0s - loss: 0.0231 - mae: 0.0231 - mape: 143.1700\n",
      "Epoch 3: val_loss improved from 0.02492 to 0.02350, saving model to C:\\Users\\musta\\Desktop\\ML lab\\lab 7\\E1-cp-0003-loss0.02.h5\n",
      "2653/2653 [==============================] - 10s 4ms/step - loss: 0.0231 - mae: 0.0231 - mape: 143.0919 - val_loss: 0.0235 - val_mae: 0.0235 - val_mape: 11.0475\n",
      "Epoch 4/60\n",
      "2641/2653 [============================>.] - ETA: 0s - loss: 0.0211 - mae: 0.0211 - mape: 535.1638\n",
      "Epoch 4: val_loss improved from 0.02350 to 0.01897, saving model to C:\\Users\\musta\\Desktop\\ML lab\\lab 7\\E1-cp-0004-loss0.02.h5\n",
      "2653/2653 [==============================] - 10s 4ms/step - loss: 0.0211 - mae: 0.0211 - mape: 532.8607 - val_loss: 0.0190 - val_mae: 0.0190 - val_mape: 8.1120\n",
      "Epoch 5/60\n",
      "2651/2653 [============================>.] - ETA: 0s - loss: 0.0195 - mae: 0.0195 - mape: 466.6483\n",
      "Epoch 5: val_loss improved from 0.01897 to 0.01626, saving model to C:\\Users\\musta\\Desktop\\ML lab\\lab 7\\E1-cp-0005-loss0.02.h5\n",
      "2653/2653 [==============================] - 10s 4ms/step - loss: 0.0195 - mae: 0.0195 - mape: 466.3769 - val_loss: 0.0163 - val_mae: 0.0163 - val_mape: 7.3931\n",
      "Epoch 6/60\n",
      "2642/2653 [============================>.] - ETA: 0s - loss: 0.0182 - mae: 0.0182 - mape: 533.3884\n",
      "Epoch 6: val_loss did not improve from 0.01626\n",
      "2653/2653 [==============================] - 10s 4ms/step - loss: 0.0182 - mae: 0.0182 - mape: 531.2863 - val_loss: 0.0166 - val_mae: 0.0166 - val_mape: 7.8014\n",
      "Epoch 7/60\n",
      "2647/2653 [============================>.] - ETA: 0s - loss: 0.0175 - mae: 0.0175 - mape: 450.0381\n",
      "Epoch 7: val_loss did not improve from 0.01626\n",
      "2653/2653 [==============================] - 10s 4ms/step - loss: 0.0175 - mae: 0.0175 - mape: 449.1057 - val_loss: 0.0167 - val_mae: 0.0167 - val_mape: 7.4539\n",
      "Epoch 8/60\n",
      "2647/2653 [============================>.] - ETA: 0s - loss: 0.0168 - mae: 0.0168 - mape: 535.5345\n",
      "Epoch 8: val_loss improved from 0.01626 to 0.01428, saving model to C:\\Users\\musta\\Desktop\\ML lab\\lab 7\\E1-cp-0008-loss0.01.h5\n",
      "2653/2653 [==============================] - 11s 4ms/step - loss: 0.0168 - mae: 0.0168 - mape: 534.4232 - val_loss: 0.0143 - val_mae: 0.0143 - val_mape: 6.3018\n",
      "Epoch 9/60\n",
      "2644/2653 [============================>.] - ETA: 0s - loss: 0.0164 - mae: 0.0164 - mape: 508.8650\n",
      "Epoch 9: val_loss did not improve from 0.01428\n",
      "2653/2653 [==============================] - 10s 4ms/step - loss: 0.0164 - mae: 0.0164 - mape: 507.2403 - val_loss: 0.0188 - val_mae: 0.0188 - val_mape: 8.8685\n",
      "Epoch 10/60\n",
      "2652/2653 [============================>.] - ETA: 0s - loss: 0.0158 - mae: 0.0158 - mape: 113.2568\n",
      "Epoch 10: val_loss did not improve from 0.01428\n",
      "2653/2653 [==============================] - 13s 5ms/step - loss: 0.0158 - mae: 0.0158 - mape: 113.2348 - val_loss: 0.0174 - val_mae: 0.0174 - val_mape: 8.3108\n",
      "Epoch 11/60\n",
      "2653/2653 [==============================] - ETA: 0s - loss: 0.0155 - mae: 0.0155 - mape: 263.0208\n",
      "Epoch 11: val_loss did not improve from 0.01428\n",
      "2653/2653 [==============================] - 14s 5ms/step - loss: 0.0155 - mae: 0.0155 - mape: 263.0208 - val_loss: 0.0161 - val_mae: 0.0161 - val_mape: 7.7323\n",
      "Epoch 12/60\n",
      "2652/2653 [============================>.] - ETA: 0s - loss: 0.0153 - mae: 0.0153 - mape: 299.1920\n",
      "Epoch 12: val_loss did not improve from 0.01428\n",
      "2653/2653 [==============================] - 14s 5ms/step - loss: 0.0153 - mae: 0.0153 - mape: 299.1294 - val_loss: 0.0161 - val_mae: 0.0161 - val_mape: 7.6964\n",
      "Epoch 13/60\n",
      "2643/2653 [============================>.] - ETA: 0s - loss: 0.0151 - mae: 0.0151 - mape: 691.1141\n",
      "Epoch 13: val_loss did not improve from 0.01428\n",
      "2653/2653 [==============================] - 16s 6ms/step - loss: 0.0151 - mae: 0.0151 - mape: 688.6436 - val_loss: 0.0157 - val_mae: 0.0157 - val_mape: 6.3721\n",
      "Epoch 14/60\n",
      "2646/2653 [============================>.] - ETA: 0s - loss: 0.0148 - mae: 0.0148 - mape: 423.9971\n",
      "Epoch 14: val_loss improved from 0.01428 to 0.01321, saving model to C:\\Users\\musta\\Desktop\\ML lab\\lab 7\\E1-cp-0014-loss0.01.h5\n",
      "2653/2653 [==============================] - 12s 4ms/step - loss: 0.0148 - mae: 0.0148 - mape: 422.9584 - val_loss: 0.0132 - val_mae: 0.0132 - val_mape: 5.7408\n",
      "Epoch 15/60\n",
      "2639/2653 [============================>.] - ETA: 0s - loss: 0.0146 - mae: 0.0146 - mape: 500.9663\n",
      "Epoch 15: val_loss improved from 0.01321 to 0.01277, saving model to C:\\Users\\musta\\Desktop\\ML lab\\lab 7\\E1-cp-0015-loss0.01.h5\n",
      "2653/2653 [==============================] - 11s 4ms/step - loss: 0.0146 - mae: 0.0146 - mape: 498.4309 - val_loss: 0.0128 - val_mae: 0.0128 - val_mape: 5.7065\n",
      "Epoch 16/60\n",
      "2650/2653 [============================>.] - ETA: 0s - loss: 0.0144 - mae: 0.0144 - mape: 377.3580\n",
      "Epoch 16: val_loss improved from 0.01277 to 0.01255, saving model to C:\\Users\\musta\\Desktop\\ML lab\\lab 7\\E1-cp-0016-loss0.01.h5\n",
      "2653/2653 [==============================] - 10s 4ms/step - loss: 0.0144 - mae: 0.0144 - mape: 376.9985 - val_loss: 0.0125 - val_mae: 0.0125 - val_mape: 6.4950\n",
      "Epoch 17/60\n",
      "2643/2653 [============================>.] - ETA: 0s - loss: 0.0143 - mae: 0.0143 - mape: 463.1537\n",
      "Epoch 17: val_loss did not improve from 0.01255\n",
      "2653/2653 [==============================] - 10s 4ms/step - loss: 0.0143 - mae: 0.0143 - mape: 461.5027 - val_loss: 0.0133 - val_mae: 0.0133 - val_mape: 5.8986\n",
      "Epoch 18/60\n",
      "2646/2653 [============================>.] - ETA: 0s - loss: 0.0141 - mae: 0.0141 - mape: 759.9874\n",
      "Epoch 18: val_loss did not improve from 0.01255\n",
      "2653/2653 [==============================] - 11s 4ms/step - loss: 0.0141 - mae: 0.0141 - mape: 758.1194 - val_loss: 0.0201 - val_mae: 0.0201 - val_mape: 10.3907\n",
      "Epoch 19/60\n",
      "2644/2653 [============================>.] - ETA: 0s - loss: 0.0136 - mae: 0.0136 - mape: 520.0238\n",
      "Epoch 19: val_loss did not improve from 0.01255\n",
      "2653/2653 [==============================] - 11s 4ms/step - loss: 0.0136 - mae: 0.0136 - mape: 518.3586 - val_loss: 0.0127 - val_mae: 0.0127 - val_mape: 5.7229\n",
      "Epoch 20/60\n",
      "2646/2653 [============================>.] - ETA: 0s - loss: 0.0137 - mae: 0.0137 - mape: 429.3400\n",
      "Epoch 20: val_loss did not improve from 0.01255\n",
      "2653/2653 [==============================] - 12s 4ms/step - loss: 0.0137 - mae: 0.0137 - mape: 428.2869 - val_loss: 0.0132 - val_mae: 0.0132 - val_mape: 6.3441\n",
      "Epoch 21/60\n",
      "2649/2653 [============================>.] - ETA: 0s - loss: 0.0137 - mae: 0.0137 - mape: 457.3418\n",
      "Epoch 21: val_loss improved from 0.01255 to 0.01192, saving model to C:\\Users\\musta\\Desktop\\ML lab\\lab 7\\E1-cp-0021-loss0.01.h5\n",
      "2653/2653 [==============================] - 11s 4ms/step - loss: 0.0137 - mae: 0.0137 - mape: 456.7343 - val_loss: 0.0119 - val_mae: 0.0119 - val_mape: 5.5042\n",
      "Epoch 22/60\n",
      "2647/2653 [============================>.] - ETA: 0s - loss: 0.0134 - mae: 0.0134 - mape: 550.1411\n",
      "Epoch 22: val_loss did not improve from 0.01192\n",
      "2653/2653 [==============================] - 10s 4ms/step - loss: 0.0134 - mae: 0.0134 - mape: 548.9951 - val_loss: 0.0124 - val_mae: 0.0124 - val_mape: 5.3620\n",
      "Epoch 23/60\n",
      "2653/2653 [==============================] - ETA: 0s - loss: 0.0133 - mae: 0.0133 - mape: 444.3925\n",
      "Epoch 23: val_loss improved from 0.01192 to 0.01172, saving model to C:\\Users\\musta\\Desktop\\ML lab\\lab 7\\E1-cp-0023-loss0.01.h5\n",
      "2653/2653 [==============================] - 10s 4ms/step - loss: 0.0133 - mae: 0.0133 - mape: 444.3925 - val_loss: 0.0117 - val_mae: 0.0117 - val_mape: 5.0388\n"
     ]
    },
    {
     "name": "stdout",
     "output_type": "stream",
     "text": [
      "Epoch 24/60\n",
      "2652/2653 [============================>.] - ETA: 0s - loss: 0.0132 - mae: 0.0132 - mape: 578.1100\n",
      "Epoch 24: val_loss did not improve from 0.01172\n",
      "2653/2653 [==============================] - 9s 3ms/step - loss: 0.0132 - mae: 0.0132 - mape: 577.9881 - val_loss: 0.0124 - val_mae: 0.0124 - val_mape: 5.6878\n",
      "Epoch 25/60\n",
      "2653/2653 [==============================] - ETA: 0s - loss: 0.0130 - mae: 0.0130 - mape: 382.4458\n",
      "Epoch 25: val_loss did not improve from 0.01172\n",
      "2653/2653 [==============================] - 10s 4ms/step - loss: 0.0130 - mae: 0.0130 - mape: 382.4458 - val_loss: 0.0119 - val_mae: 0.0119 - val_mape: 5.8859\n",
      "Epoch 26/60\n",
      "2642/2653 [============================>.] - ETA: 0s - loss: 0.0131 - mae: 0.0131 - mape: 293.6013\n",
      "Epoch 26: val_loss did not improve from 0.01172\n",
      "2653/2653 [==============================] - 12s 4ms/step - loss: 0.0131 - mae: 0.0131 - mape: 292.4477 - val_loss: 0.0126 - val_mae: 0.0126 - val_mape: 5.9925\n",
      "Epoch 27/60\n",
      "2646/2653 [============================>.] - ETA: 0s - loss: 0.0129 - mae: 0.0129 - mape: 501.1824\n",
      "Epoch 27: val_loss did not improve from 0.01172\n",
      "2653/2653 [==============================] - 10s 4ms/step - loss: 0.0129 - mae: 0.0129 - mape: 499.9519 - val_loss: 0.0129 - val_mae: 0.0129 - val_mape: 5.9645\n",
      "Epoch 28/60\n",
      "2653/2653 [==============================] - ETA: 0s - loss: 0.0129 - mae: 0.0129 - mape: 347.4356\n",
      "Epoch 28: val_loss did not improve from 0.01172\n",
      "2653/2653 [==============================] - 10s 4ms/step - loss: 0.0129 - mae: 0.0129 - mape: 347.4356 - val_loss: 0.0158 - val_mae: 0.0158 - val_mape: 7.9388\n",
      "Epoch 29/60\n",
      "2649/2653 [============================>.] - ETA: 0s - loss: 0.0126 - mae: 0.0126 - mape: 519.2008\n",
      "Epoch 29: val_loss did not improve from 0.01172\n",
      "2653/2653 [==============================] - 10s 4ms/step - loss: 0.0126 - mae: 0.0126 - mape: 518.5084 - val_loss: 0.0129 - val_mae: 0.0129 - val_mape: 6.4630\n",
      "Epoch 30/60\n",
      "2643/2653 [============================>.] - ETA: 0s - loss: 0.0128 - mae: 0.0128 - mape: 520.1730\n",
      "Epoch 30: val_loss did not improve from 0.01172\n",
      "2653/2653 [==============================] - 10s 4ms/step - loss: 0.0128 - mae: 0.0128 - mape: 518.3124 - val_loss: 0.0142 - val_mae: 0.0142 - val_mape: 6.1242\n",
      "Epoch 31/60\n",
      "2641/2653 [============================>.] - ETA: 0s - loss: 0.0126 - mae: 0.0126 - mape: 540.3808\n",
      "Epoch 31: val_loss did not improve from 0.01172\n",
      "2653/2653 [==============================] - 10s 4ms/step - loss: 0.0126 - mae: 0.0126 - mape: 538.0419 - val_loss: 0.0124 - val_mae: 0.0124 - val_mape: 5.9107\n",
      "Epoch 32/60\n",
      "2651/2653 [============================>.] - ETA: 0s - loss: 0.0127 - mae: 0.0127 - mape: 510.5388\n",
      "Epoch 32: val_loss did not improve from 0.01172\n",
      "2653/2653 [==============================] - 10s 4ms/step - loss: 0.0127 - mae: 0.0127 - mape: 510.2399 - val_loss: 0.0129 - val_mae: 0.0129 - val_mape: 5.4745\n",
      "Epoch 33/60\n",
      "2643/2653 [============================>.] - ETA: 0s - loss: 0.0125 - mae: 0.0125 - mape: 510.7122\n",
      "Epoch 33: val_loss improved from 0.01172 to 0.01084, saving model to C:\\Users\\musta\\Desktop\\ML lab\\lab 7\\E1-cp-0033-loss0.01.h5\n",
      "2653/2653 [==============================] - 10s 4ms/step - loss: 0.0125 - mae: 0.0125 - mape: 508.8864 - val_loss: 0.0108 - val_mae: 0.0108 - val_mape: 4.7973\n",
      "Epoch 34/60\n",
      "2641/2653 [============================>.] - ETA: 0s - loss: 0.0124 - mae: 0.0124 - mape: 510.9170\n",
      "Epoch 34: val_loss did not improve from 0.01084\n",
      "2653/2653 [==============================] - 10s 4ms/step - loss: 0.0124 - mae: 0.0124 - mape: 508.7080 - val_loss: 0.0118 - val_mae: 0.0118 - val_mape: 5.4183\n",
      "Epoch 35/60\n",
      "2648/2653 [============================>.] - ETA: 0s - loss: 0.0125 - mae: 0.0125 - mape: 500.5589\n",
      "Epoch 35: val_loss did not improve from 0.01084\n",
      "2653/2653 [==============================] - 10s 4ms/step - loss: 0.0125 - mae: 0.0125 - mape: 499.7060 - val_loss: 0.0115 - val_mae: 0.0115 - val_mape: 5.5856\n",
      "Epoch 36/60\n",
      "2646/2653 [============================>.] - ETA: 0s - loss: 0.0124 - mae: 0.0124 - mape: 493.0691\n",
      "Epoch 36: val_loss did not improve from 0.01084\n",
      "2653/2653 [==============================] - 10s 4ms/step - loss: 0.0124 - mae: 0.0124 - mape: 491.8614 - val_loss: 0.0113 - val_mae: 0.0113 - val_mape: 5.1761\n",
      "Epoch 37/60\n",
      "2652/2653 [============================>.] - ETA: 0s - loss: 0.0124 - mae: 0.0124 - mape: 265.7773\n",
      "Epoch 37: val_loss did not improve from 0.01084\n",
      "2653/2653 [==============================] - 11s 4ms/step - loss: 0.0124 - mae: 0.0124 - mape: 265.7220 - val_loss: 0.0152 - val_mae: 0.0152 - val_mape: 7.6842\n",
      "Epoch 38/60\n",
      "2650/2653 [============================>.] - ETA: 0s - loss: 0.0121 - mae: 0.0121 - mape: 325.9070\n",
      "Epoch 38: val_loss did not improve from 0.01084\n",
      "2653/2653 [==============================] - 11s 4ms/step - loss: 0.0121 - mae: 0.0121 - mape: 325.5952 - val_loss: 0.0110 - val_mae: 0.0110 - val_mape: 4.8762\n",
      "Epoch 39/60\n",
      "2644/2653 [============================>.] - ETA: 0s - loss: 0.0121 - mae: 0.0121 - mape: 338.1613\n",
      "Epoch 39: val_loss did not improve from 0.01084\n",
      "2653/2653 [==============================] - 11s 4ms/step - loss: 0.0121 - mae: 0.0121 - mape: 337.0925 - val_loss: 0.0162 - val_mae: 0.0162 - val_mape: 8.1554\n",
      "Epoch 40/60\n",
      "2647/2653 [============================>.] - ETA: 0s - loss: 0.0122 - mae: 0.0122 - mape: 421.5543\n",
      "Epoch 40: val_loss did not improve from 0.01084\n",
      "2653/2653 [==============================] - 11s 4ms/step - loss: 0.0122 - mae: 0.0122 - mape: 420.6776 - val_loss: 0.0115 - val_mae: 0.0115 - val_mape: 5.3220\n",
      "Epoch 41/60\n",
      "2637/2653 [============================>.] - ETA: 0s - loss: 0.0120 - mae: 0.0120 - mape: 297.1917\n",
      "Epoch 41: val_loss did not improve from 0.01084\n",
      "2653/2653 [==============================] - 11s 4ms/step - loss: 0.0120 - mae: 0.0120 - mape: 295.4687 - val_loss: 0.0113 - val_mae: 0.0113 - val_mape: 4.9649\n",
      "Epoch 42/60\n",
      "2641/2653 [============================>.] - ETA: 0s - loss: 0.0120 - mae: 0.0120 - mape: 329.0370\n",
      "Epoch 42: val_loss did not improve from 0.01084\n",
      "2653/2653 [==============================] - 11s 4ms/step - loss: 0.0120 - mae: 0.0120 - mape: 327.6231 - val_loss: 0.0118 - val_mae: 0.0118 - val_mape: 5.8213\n",
      "Epoch 43/60\n",
      "2644/2653 [============================>.] - ETA: 0s - loss: 0.0121 - mae: 0.0121 - mape: 200.0633\n",
      "Epoch 43: val_loss did not improve from 0.01084\n",
      "2653/2653 [==============================] - 11s 4ms/step - loss: 0.0121 - mae: 0.0121 - mape: 199.4290 - val_loss: 0.0118 - val_mae: 0.0118 - val_mape: 5.7013\n",
      "Epoch 44/60\n",
      "2653/2653 [==============================] - ETA: 0s - loss: 0.0119 - mae: 0.0119 - mape: 278.6292\n",
      "Epoch 44: val_loss did not improve from 0.01084\n",
      "2653/2653 [==============================] - 11s 4ms/step - loss: 0.0119 - mae: 0.0119 - mape: 278.6292 - val_loss: 0.0117 - val_mae: 0.0117 - val_mape: 5.3638\n",
      "Epoch 45/60\n",
      "2648/2653 [============================>.] - ETA: 0s - loss: 0.0119 - mae: 0.0119 - mape: 274.5483\n",
      "Epoch 45: val_loss did not improve from 0.01084\n",
      "2653/2653 [==============================] - 11s 4ms/step - loss: 0.0119 - mae: 0.0119 - mape: 274.0820 - val_loss: 0.0115 - val_mae: 0.0115 - val_mape: 5.6959\n",
      "Epoch 46/60\n",
      "2638/2653 [============================>.] - ETA: 0s - loss: 0.0118 - mae: 0.0118 - mape: 223.3176\n",
      "Epoch 46: val_loss improved from 0.01084 to 0.01064, saving model to C:\\Users\\musta\\Desktop\\ML lab\\lab 7\\E1-cp-0046-loss0.01.h5\n",
      "2653/2653 [==============================] - 12s 4ms/step - loss: 0.0118 - mae: 0.0118 - mape: 222.1121 - val_loss: 0.0106 - val_mae: 0.0106 - val_mape: 4.7354\n",
      "Epoch 47/60\n",
      "2647/2653 [============================>.] - ETA: 0s - loss: 0.0118 - mae: 0.0118 - mape: 287.0762\n",
      "Epoch 47: val_loss did not improve from 0.01064\n",
      "2653/2653 [==============================] - 11s 4ms/step - loss: 0.0118 - mae: 0.0118 - mape: 286.4842 - val_loss: 0.0114 - val_mae: 0.0114 - val_mape: 5.4347\n",
      "Epoch 48/60\n",
      "2645/2653 [============================>.] - ETA: 0s - loss: 0.0118 - mae: 0.0118 - mape: 376.0713\n",
      "Epoch 48: val_loss did not improve from 0.01064\n",
      "2653/2653 [==============================] - 12s 5ms/step - loss: 0.0118 - mae: 0.0118 - mape: 375.0084 - val_loss: 0.0110 - val_mae: 0.0110 - val_mape: 4.9893\n",
      "Epoch 49/60\n",
      "2649/2653 [============================>.] - ETA: 0s - loss: 0.0117 - mae: 0.0117 - mape: 305.6648\n",
      "Epoch 49: val_loss did not improve from 0.01064\n",
      "2653/2653 [==============================] - 10s 4ms/step - loss: 0.0117 - mae: 0.0117 - mape: 305.2596 - val_loss: 0.0115 - val_mae: 0.0115 - val_mape: 5.6654\n",
      "Epoch 50/60\n",
      "2652/2653 [============================>.] - ETA: 0s - loss: 0.0116 - mae: 0.0116 - mape: 266.3065\n",
      "Epoch 50: val_loss did not improve from 0.01064\n",
      "2653/2653 [==============================] - 9s 4ms/step - loss: 0.0116 - mae: 0.0116 - mape: 266.2512 - val_loss: 0.0135 - val_mae: 0.0135 - val_mape: 5.4095\n",
      "Epoch 51/60\n",
      "2644/2653 [============================>.] - ETA: 0s - loss: 0.0116 - mae: 0.0116 - mape: 366.9477\n",
      "Epoch 51: val_loss improved from 0.01064 to 0.01056, saving model to C:\\Users\\musta\\Desktop\\ML lab\\lab 7\\E1-cp-0051-loss0.01.h5\n",
      "2653/2653 [==============================] - 10s 4ms/step - loss: 0.0116 - mae: 0.0116 - mape: 365.7731 - val_loss: 0.0106 - val_mae: 0.0106 - val_mape: 4.9670\n",
      "Epoch 52/60\n",
      "2653/2653 [==============================] - ETA: 0s - loss: 0.0116 - mae: 0.0116 - mape: 282.5394\n",
      "Epoch 52: val_loss did not improve from 0.01056\n",
      "2653/2653 [==============================] - 11s 4ms/step - loss: 0.0116 - mae: 0.0116 - mape: 282.5394 - val_loss: 0.0136 - val_mae: 0.0136 - val_mape: 6.8103\n",
      "Epoch 53/60\n",
      "2640/2653 [============================>.] - ETA: 0s - loss: 0.0115 - mae: 0.0115 - mape: 321.4264\n",
      "Epoch 53: val_loss did not improve from 0.01056\n",
      "2653/2653 [==============================] - 10s 4ms/step - loss: 0.0115 - mae: 0.0115 - mape: 319.9225 - val_loss: 0.0122 - val_mae: 0.0122 - val_mape: 4.9652\n",
      "Epoch 54/60\n",
      "2649/2653 [============================>.] - ETA: 0s - loss: 0.0116 - mae: 0.0116 - mape: 160.1412\n",
      "Epoch 54: val_loss did not improve from 0.01056\n",
      "2653/2653 [==============================] - 10s 4ms/step - loss: 0.0116 - mae: 0.0116 - mape: 159.9307 - val_loss: 0.0114 - val_mae: 0.0114 - val_mape: 4.9449\n",
      "Epoch 55/60\n",
      "2645/2653 [============================>.] - ETA: 0s - loss: 0.0115 - mae: 0.0115 - mape: 347.9117\n",
      "Epoch 55: val_loss did not improve from 0.01056\n",
      "2653/2653 [==============================] - 10s 4ms/step - loss: 0.0115 - mae: 0.0115 - mape: 346.9313 - val_loss: 0.0167 - val_mae: 0.0167 - val_mape: 8.2326\n",
      "Epoch 56/60\n",
      "2644/2653 [============================>.] - ETA: 0s - loss: 0.0115 - mae: 0.0115 - mape: 306.4534\n",
      "Epoch 56: val_loss did not improve from 0.01056\n",
      "2653/2653 [==============================] - 11s 4ms/step - loss: 0.0115 - mae: 0.0115 - mape: 305.4775 - val_loss: 0.0117 - val_mae: 0.0117 - val_mape: 5.3067\n",
      "Epoch 57/60\n",
      "2649/2653 [============================>.] - ETA: 0s - loss: 0.0114 - mae: 0.0114 - mape: 460.3747\n",
      "Epoch 57: val_loss did not improve from 0.01056\n",
      "2653/2653 [==============================] - 11s 4ms/step - loss: 0.0114 - mae: 0.0114 - mape: 459.7617 - val_loss: 0.0126 - val_mae: 0.0126 - val_mape: 6.2358\n",
      "Epoch 58/60\n",
      "2649/2653 [============================>.] - ETA: 0s - loss: 0.0115 - mae: 0.0115 - mape: 357.9837\n",
      "Epoch 58: val_loss did not improve from 0.01056\n",
      "2653/2653 [==============================] - 10s 4ms/step - loss: 0.0115 - mae: 0.0115 - mape: 357.5080 - val_loss: 0.0110 - val_mae: 0.0110 - val_mape: 4.9906\n",
      "Epoch 59/60\n",
      "2648/2653 [============================>.] - ETA: 0s - loss: 0.0116 - mae: 0.0116 - mape: 334.6545\n",
      "Epoch 59: val_loss did not improve from 0.01056\n",
      "2653/2653 [==============================] - 11s 4ms/step - loss: 0.0116 - mae: 0.0116 - mape: 334.0849 - val_loss: 0.0108 - val_mae: 0.0108 - val_mape: 4.8684\n",
      "Epoch 60/60\n",
      "2652/2653 [============================>.] - ETA: 0s - loss: 0.0114 - mae: 0.0114 - mape: 380.5665\n",
      "Epoch 60: val_loss did not improve from 0.01056\n",
      "2653/2653 [==============================] - 11s 4ms/step - loss: 0.0114 - mae: 0.0114 - mape: 380.4863 - val_loss: 0.0145 - val_mae: 0.0145 - val_mape: 7.6657\n"
     ]
    }
   ],
   "source": [
    "epochs = 60\n",
    "verbose = 1 #0\n",
    "batch_size = 32\n",
    "History = model.fit(train_X,\n",
    "                        train_y,\n",
    "                        batch_size=batch_size,   \n",
    "                        epochs = epochs, \n",
    "                        validation_data = (validation_X,validation_y),\n",
    "                        callbacks=callbacks,\n",
    "                    verbose = verbose)"
   ]
  },
  {
   "cell_type": "code",
   "execution_count": 26,
   "metadata": {},
   "outputs": [
    {
     "name": "stdout",
     "output_type": "stream",
     "text": [
      "379/379 [==============================] - 1s 3ms/step\n",
      "Mean Absolute Error (MAE): 166.55\n",
      "Median Absolute Error (MedAE): 134.56\n",
      "Mean Squared Error (MSE): 46593.16\n",
      "Root Mean Squared Error (RMSE): 215.85\n",
      "Mean Absolute Percentage Error (MAPE): 1.14 %\n",
      "Median Absolute Percentage Error (MDAPE): 0.92 %\n",
      "\n",
      "\n",
      "y_test_unscaled.shape=  (12105, 1)\n",
      "y_pred.shape=  (12105, 1)\n"
     ]
    }
   ],
   "source": [
    "\n",
    "model = load_model(r'C:\\Users\\syedm\\Desktop\\Electrical (Communication)\\8TH SEMESTER 2025\\INTRODUCTION TO MACHINE LEARNING LAB\\MACHINE LAB WORKS\\LAB 7\\E1-cp-0051-loss0.01.h5')\n",
    "\n",
    "y_pred_scaled   = model.predict(test_X)\n",
    "y_pred          = scaler.inverse_transform(y_pred_scaled)\n",
    "y_test_unscaled = scaler.inverse_transform(test_y)\n",
    "# Mean Absolute Error (MAE)\n",
    "MAE = np.mean(abs(y_pred - y_test_unscaled)) \n",
    "print('Mean Absolute Error (MAE): ' + str(np.round(MAE, 2)))\n",
    "\n",
    "# Median Absolute Error (MedAE)\n",
    "MEDAE = np.median(abs(y_pred - y_test_unscaled))\n",
    "print('Median Absolute Error (MedAE): ' + str(np.round(MEDAE, 2)))\n",
    "\n",
    "# Mean Squared Error (MSE)\n",
    "MSE = np.square(np.subtract(y_pred, y_test_unscaled)).mean()\n",
    "print('Mean Squared Error (MSE): ' + str(np.round(MSE, 2)))\n",
    "\n",
    "# Root Mean Squarred Error (RMSE) \n",
    "RMSE = np.sqrt(np.mean(np.square(y_pred - y_test_unscaled)))\n",
    "print('Root Mean Squared Error (RMSE): ' + str(np.round(RMSE, 2)))\n",
    "\n",
    "# Mean Absolute Percentage Error (MAPE)\n",
    "MAPE = np.mean((np.abs(np.subtract(y_test_unscaled, y_pred)/ y_test_unscaled))) * 100\n",
    "print('Mean Absolute Percentage Error (MAPE): ' + str(np.round(MAPE, 2)) + ' %')\n",
    "\n",
    "# Median Absolute Percentage Error (MDAPE)\n",
    "MDAPE = np.median((np.abs(np.subtract(y_test_unscaled, y_pred)/ y_test_unscaled))) * 100\n",
    "print('Median Absolute Percentage Error (MDAPE): ' + str(np.round(MDAPE, 2)) + ' %')\n",
    "\n",
    "print('\\n\\ny_test_unscaled.shape= ',y_test_unscaled.shape)\n",
    "print('y_pred.shape= ',y_pred.shape)"
   ]
  },
  {
   "cell_type": "markdown",
   "metadata": {},
   "source": [
    "# Fine Tuning"
   ]
  },
  {
   "cell_type": "code",
   "execution_count": 27,
   "metadata": {},
   "outputs": [],
   "source": [
    "checkpoints = r'C:\\Users\\syedm\\Desktop\\Electrical (Communication)\\8TH SEMESTER 2025\\INTRODUCTION TO MACHINE LEARNING LAB\\MACHINE LAB WORKS\\LAB 7\\E2-cp-{epoch:04d}-loss{val_loss:.2f}.h5'\n",
    "model=r'C:\\Users\\syedm\\Desktop\\Electrical (Communication)\\8TH SEMESTER 2025\\INTRODUCTION TO MACHINE LEARNING LAB\\MACHINE LAB WORKS\\LAB 7\\E1-cp-0051-loss0.01.h5'\n",
    "start_epoch= 52"
   ]
  },
  {
   "cell_type": "code",
   "execution_count": 28,
   "metadata": {},
   "outputs": [
    {
     "name": "stdout",
     "output_type": "stream",
     "text": [
      "[INFO] loading C:\\Users\\musta\\Desktop\\ML lab\\lab 7\\E1-cp-0051-loss0.01.h5...\n",
      "[INFO] old learning rate: 0.0010000000474974513\n",
      "[INFO] new learning rate: 9.999999747378752e-05\n"
     ]
    }
   ],
   "source": [
    "# construct the callback to save only the *best* model to disk\n",
    "# based on the validation loss\n",
    "EpochCheckpoint1 = ModelCheckpoint(checkpoints,\n",
    "                             monitor=\"val_loss\",\n",
    "                             save_best_only=True, \n",
    "                             verbose=1)\n",
    "#TrainingMonitor1=TrainingMonitor(FIG_PATH, jsonPath=JSON_PATH, startAt=start_epoch)\n",
    "\n",
    "# construct the set of callbacks\n",
    "callbacks = [EpochCheckpoint1]\n",
    "# if there is no specific model checkpoint supplied, then initialize\n",
    "# the network and compile the model\n",
    "if model is None:\n",
    "    print(\"[INFO] compiling model...\")\n",
    "    model = PC.build(time_steps=24, num_features=21, reg=0.0005)\n",
    "    opt = Adam(1e-3)\n",
    "    model.compile(loss= 'mae', optimizer=opt, metrics=[\"mae\", \"mape\"])\n",
    "# otherwise, load the checkpoint from disk\n",
    "else:\n",
    "    print(\"[INFO] loading {}...\".format(model))\n",
    "    model = load_model(model)\n",
    "\n",
    "    # update the learning rate\n",
    "    print(\"[INFO] old learning rate: {}\".format(K.get_value(model.optimizer.lr)))\n",
    "    K.set_value(model.optimizer.lr, 1e-4)\n",
    "    print(\"[INFO] new learning rate: {}\".format(K.get_value(model.optimizer.lr)))"
   ]
  },
  {
   "cell_type": "code",
   "execution_count": 29,
   "metadata": {},
   "outputs": [
    {
     "name": "stdout",
     "output_type": "stream",
     "text": [
      "Epoch 1/10\n",
      "2648/2653 [============================>.] - ETA: 0s - loss: 0.0092 - mae: 0.0092 - mape: 211.2929\n",
      "Epoch 1: val_loss improved from inf to 0.00912, saving model to C:\\Users\\musta\\Desktop\\ML lab\\lab 7\\E2-cp-0001-loss0.01.h5\n",
      "2653/2653 [==============================] - 14s 5ms/step - loss: 0.0092 - mae: 0.0092 - mape: 210.9340 - val_loss: 0.0091 - val_mae: 0.0091 - val_mape: 4.1544\n",
      "Epoch 2/10\n",
      "2641/2653 [============================>.] - ETA: 0s - loss: 0.0091 - mae: 0.0091 - mape: 225.8906\n",
      "Epoch 2: val_loss did not improve from 0.00912\n",
      "2653/2653 [==============================] - 12s 5ms/step - loss: 0.0091 - mae: 0.0091 - mape: 224.9192 - val_loss: 0.0092 - val_mae: 0.0092 - val_mape: 4.1883\n",
      "Epoch 3/10\n",
      "2643/2653 [============================>.] - ETA: 0s - loss: 0.0091 - mae: 0.0091 - mape: 229.8519\n",
      "Epoch 3: val_loss did not improve from 0.00912\n",
      "2653/2653 [==============================] - 11s 4ms/step - loss: 0.0091 - mae: 0.0091 - mape: 229.0323 - val_loss: 0.0092 - val_mae: 0.0092 - val_mape: 4.2481\n",
      "Epoch 4/10\n",
      "2652/2653 [============================>.] - ETA: 0s - loss: 0.0091 - mae: 0.0091 - mape: 227.5047\n",
      "Epoch 4: val_loss improved from 0.00912 to 0.00908, saving model to C:\\Users\\musta\\Desktop\\ML lab\\lab 7\\E2-cp-0004-loss0.01.h5\n",
      "2653/2653 [==============================] - 11s 4ms/step - loss: 0.0091 - mae: 0.0091 - mape: 227.4572 - val_loss: 0.0091 - val_mae: 0.0091 - val_mape: 4.3022\n",
      "Epoch 5/10\n",
      "2650/2653 [============================>.] - ETA: 0s - loss: 0.0091 - mae: 0.0091 - mape: 281.9358\n",
      "Epoch 5: val_loss improved from 0.00908 to 0.00900, saving model to C:\\Users\\musta\\Desktop\\ML lab\\lab 7\\E2-cp-0005-loss0.01.h5\n",
      "2653/2653 [==============================] - 14s 5ms/step - loss: 0.0091 - mae: 0.0091 - mape: 281.6663 - val_loss: 0.0090 - val_mae: 0.0090 - val_mape: 4.0456\n",
      "Epoch 6/10\n",
      "2652/2653 [============================>.] - ETA: 0s - loss: 0.0091 - mae: 0.0091 - mape: 252.2205\n",
      "Epoch 6: val_loss did not improve from 0.00900\n",
      "2653/2653 [==============================] - 12s 5ms/step - loss: 0.0091 - mae: 0.0091 - mape: 252.1677 - val_loss: 0.0094 - val_mae: 0.0094 - val_mape: 4.1392\n",
      "Epoch 7/10\n",
      "2646/2653 [============================>.] - ETA: 0s - loss: 0.0090 - mae: 0.0090 - mape: 258.7373\n",
      "Epoch 7: val_loss did not improve from 0.00900\n",
      "2653/2653 [==============================] - 15s 6ms/step - loss: 0.0090 - mae: 0.0090 - mape: 258.1043 - val_loss: 0.0093 - val_mae: 0.0093 - val_mape: 4.2055\n",
      "Epoch 8/10\n",
      "2644/2653 [============================>.] - ETA: 0s - loss: 0.0090 - mae: 0.0090 - mape: 282.9499\n",
      "Epoch 8: val_loss did not improve from 0.00900\n",
      "2653/2653 [==============================] - 14s 5ms/step - loss: 0.0090 - mae: 0.0090 - mape: 282.0449 - val_loss: 0.0098 - val_mae: 0.0098 - val_mape: 4.6952\n",
      "Epoch 9/10\n",
      "2642/2653 [============================>.] - ETA: 0s - loss: 0.0090 - mae: 0.0090 - mape: 220.3084\n",
      "Epoch 9: val_loss improved from 0.00900 to 0.00898, saving model to C:\\Users\\musta\\Desktop\\ML lab\\lab 7\\E2-cp-0009-loss0.01.h5\n",
      "2653/2653 [==============================] - 11s 4ms/step - loss: 0.0090 - mae: 0.0090 - mape: 219.4409 - val_loss: 0.0090 - val_mae: 0.0090 - val_mape: 3.9796\n",
      "Epoch 10/10\n",
      "2643/2653 [============================>.] - ETA: 0s - loss: 0.0090 - mae: 0.0090 - mape: 223.9002\n",
      "Epoch 10: val_loss did not improve from 0.00898\n",
      "2653/2653 [==============================] - 11s 4ms/step - loss: 0.0090 - mae: 0.0090 - mape: 223.1030 - val_loss: 0.0093 - val_mae: 0.0093 - val_mape: 4.1188\n"
     ]
    }
   ],
   "source": [
    "epochs = 10\n",
    "verbose = 1 #0\n",
    "batch_size = 32\n",
    "History = model.fit(train_X,\n",
    "                        train_y,\n",
    "                        batch_size=batch_size,   \n",
    "                        epochs = epochs, \n",
    "                        validation_data = (validation_X,validation_y),\n",
    "                        callbacks=callbacks,\n",
    "                        verbose = verbose)"
   ]
  },
  {
   "cell_type": "code",
   "execution_count": 30,
   "metadata": {},
   "outputs": [
    {
     "name": "stdout",
     "output_type": "stream",
     "text": [
      "379/379 [==============================] - 1s 2ms/step\n",
      "Mean Absolute Error (MAE): 145.18\n",
      "Median Absolute Error (MedAE): 114.85\n",
      "Mean Squared Error (MSE): 36106.18\n",
      "Root Mean Squared Error (RMSE): 190.02\n",
      "Mean Absolute Percentage Error (MAPE): 0.99 %\n",
      "Median Absolute Percentage Error (MDAPE): 0.8 %\n",
      "\n",
      "\n",
      "y_test_unscaled.shape=  (12105, 1)\n",
      "y_pred.shape=  (12105, 1)\n"
     ]
    }
   ],
   "source": [
    "\n",
    "model = load_model(r'C:\\Users\\syedm\\Desktop\\Electrical (Communication)\\8TH SEMESTER 2025\\INTRODUCTION TO MACHINE LEARNING LAB\\MACHINE LAB WORKS\\LAB 7\\E2-cp-0009-loss0.01.h5')\n",
    "\n",
    "y_pred_scaled   = model.predict(test_X)\n",
    "y_pred          = scaler.inverse_transform(y_pred_scaled)\n",
    "y_test_unscaled = scaler.inverse_transform(test_y)\n",
    "# Mean Absolute Error (MAE)\n",
    "MAE = np.mean(abs(y_pred - y_test_unscaled)) \n",
    "print('Mean Absolute Error (MAE): ' + str(np.round(MAE, 2)))\n",
    "\n",
    "# Median Absolute Error (MedAE)\n",
    "MEDAE = np.median(abs(y_pred - y_test_unscaled))\n",
    "print('Median Absolute Error (MedAE): ' + str(np.round(MEDAE, 2)))\n",
    "\n",
    "# Mean Squared Error (MSE)\n",
    "MSE = np.square(np.subtract(y_pred, y_test_unscaled)).mean()\n",
    "print('Mean Squared Error (MSE): ' + str(np.round(MSE, 2)))\n",
    "\n",
    "# Root Mean Squarred Error (RMSE) \n",
    "RMSE = np.sqrt(np.mean(np.square(y_pred - y_test_unscaled)))\n",
    "print('Root Mean Squared Error (RMSE): ' + str(np.round(RMSE, 2)))\n",
    "\n",
    "# Mean Absolute Percentage Error (MAPE)\n",
    "MAPE = np.mean((np.abs(np.subtract(y_test_unscaled, y_pred)/ y_test_unscaled))) * 100\n",
    "print('Mean Absolute Percentage Error (MAPE): ' + str(np.round(MAPE, 2)) + ' %')\n",
    "\n",
    "# Median Absolute Percentage Error (MDAPE)\n",
    "MDAPE = np.median((np.abs(np.subtract(y_test_unscaled, y_pred)/ y_test_unscaled))) * 100\n",
    "print('Median Absolute Percentage Error (MDAPE): ' + str(np.round(MDAPE, 2)) + ' %')\n",
    "\n",
    "print('\\n\\ny_test_unscaled.shape= ',y_test_unscaled.shape)\n",
    "print('y_pred.shape= ',y_pred.shape)"
   ]
  },
  {
   "cell_type": "code",
   "execution_count": null,
   "metadata": {},
   "outputs": [],
   "source": []
  }
 ],
 "metadata": {
  "kernelspec": {
   "display_name": "Python 3 (ipykernel)",
   "language": "python",
   "name": "python3"
  },
  "language_info": {
   "codemirror_mode": {
    "name": "ipython",
    "version": 3
   },
   "file_extension": ".py",
   "mimetype": "text/x-python",
   "name": "python",
   "nbconvert_exporter": "python",
   "pygments_lexer": "ipython3",
   "version": "3.12.6"
  }
 },
 "nbformat": 4,
 "nbformat_minor": 4
}
